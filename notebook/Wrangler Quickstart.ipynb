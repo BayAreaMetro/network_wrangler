{
 "cells": [
  {
   "cell_type": "markdown",
   "metadata": {},
   "source": [
    "# Quick Start for Network Wrangler\n",
    "\n",
    "This notebook should give you a high-level overview of using Wrangler to do the following:  \n",
    "\n",
    "1. Import a network to wrangler\n",
    "2. Query network features \n",
    "3. Change attributes \n",
    "4. Write out resulting network  \n",
    "5. Make change to a network based on a project card "
   ]
  },
  {
   "cell_type": "code",
   "execution_count": 17,
   "metadata": {},
   "outputs": [
    {
     "name": "stdout",
     "output_type": "stream",
     "text": [
      "The autoreload extension is already loaded. To reload it, use:\n",
      "  %reload_ext autoreload\n"
     ]
    }
   ],
   "source": [
    "import os\n",
    "import warnings\n",
    "\n",
    "import numpy as np\n",
    "import pandas as pd\n",
    "import geopandas as gpd\n",
    "\n",
    "from network_wrangler import RoadwayNetwork\n",
    "from network_wrangler import ProjectCard\n",
    "from network_wrangler import TransitNetwork\n",
    "\n",
    "from ipywidgets import HBox, VBox, Output\n",
    "from IPython.display import display, HTML\n",
    "\n",
    "%config IPCompleter.greedy=True\n",
    "pd.set_option('display.max_columns', None)\n",
    "warnings.filterwarnings('ignore')\n",
    "%load_ext autoreload\n",
    "%autoreload 2"
   ]
  },
  {
   "cell_type": "markdown",
   "metadata": {},
   "source": [
    "### 1. Importing and viewing a network in the standard format \n",
    "\n",
    "1. Locate network folder and files "
   ]
  },
  {
   "cell_type": "code",
   "execution_count": 2,
   "metadata": {},
   "outputs": [],
   "source": [
    "STPAUL_DIR = os.path.join(os.getcwd(),'../','example','stpaul')\n",
    "\n",
    "# Roadway Network files\n",
    "STPAUL_SHAPE_FILE = os.path.join(STPAUL_DIR,\"shape.geojson\")\n",
    "STPAUL_LINK_FILE = os.path.join(STPAUL_DIR,\"link.json\")\n",
    "STPAUL_NODE_FILE = os.path.join(STPAUL_DIR,\"node.geojson\")"
   ]
  },
  {
   "cell_type": "markdown",
   "metadata": {},
   "source": [
    "2. Read in the network"
   ]
  },
  {
   "cell_type": "code",
   "execution_count": 3,
   "metadata": {},
   "outputs": [],
   "source": [
    "net = RoadwayNetwork.read(\n",
    "    link_file= STPAUL_LINK_FILE, \n",
    "    node_file=STPAUL_NODE_FILE, \n",
    "    shape_file=STPAUL_SHAPE_FILE, \n",
    "    fast=True        # fast=True means that the network isn't validated against its schema when it is read in. You will want to try both ways.\n",
    ")"
   ]
  },
  {
   "cell_type": "code",
   "execution_count": 4,
   "metadata": {},
   "outputs": [],
   "source": [
    "transit_net = TransitNetwork.read(feed_path=STPAUL_DIR)"
   ]
  },
  {
   "cell_type": "markdown",
   "metadata": {},
   "source": [
    "3. Look at the first three rows of each network component"
   ]
  },
  {
   "cell_type": "code",
   "execution_count": 5,
   "metadata": {},
   "outputs": [
    {
     "data": {
      "text/html": [
       "<div>\n",
       "<style scoped>\n",
       "    .dataframe tbody tr th:only-of-type {\n",
       "        vertical-align: middle;\n",
       "    }\n",
       "\n",
       "    .dataframe tbody tr th {\n",
       "        vertical-align: top;\n",
       "    }\n",
       "\n",
       "    .dataframe thead th {\n",
       "        text-align: right;\n",
       "    }\n",
       "</style>\n",
       "<table border=\"1\" class=\"dataframe\">\n",
       "  <thead>\n",
       "    <tr style=\"text-align: right;\">\n",
       "      <th></th>\n",
       "      <th>model_link_id</th>\n",
       "      <th>osm_link_id</th>\n",
       "      <th>shstReferenceId</th>\n",
       "      <th>shstGeometryId</th>\n",
       "      <th>u</th>\n",
       "      <th>v</th>\n",
       "      <th>A</th>\n",
       "      <th>B</th>\n",
       "      <th>access</th>\n",
       "      <th>area</th>\n",
       "      <th>bridge</th>\n",
       "      <th>highway</th>\n",
       "      <th>length</th>\n",
       "      <th>maxspeed</th>\n",
       "      <th>name</th>\n",
       "      <th>oneway</th>\n",
       "      <th>tunnel</th>\n",
       "      <th>width</th>\n",
       "      <th>lanes</th>\n",
       "      <th>distance</th>\n",
       "      <th>HOV_access</th>\n",
       "      <th>transit_priority</th>\n",
       "      <th>traveltime_assert</th>\n",
       "      <th>transit_access</th>\n",
       "      <th>drive_access</th>\n",
       "      <th>walk_access</th>\n",
       "      <th>bike_access</th>\n",
       "      <th>transit_walk_access</th>\n",
       "      <th>locationReferences</th>\n",
       "      <th>ref</th>\n",
       "      <th>geometry</th>\n",
       "    </tr>\n",
       "  </thead>\n",
       "  <tbody>\n",
       "    <tr>\n",
       "      <th>0</th>\n",
       "      <td>224</td>\n",
       "      <td>18214905,18220565</td>\n",
       "      <td>6a22969708104ae2497244f3d079381d</td>\n",
       "      <td>4a454269d65c6619a2d7e2026295a295</td>\n",
       "      <td>493882040</td>\n",
       "      <td>187879468</td>\n",
       "      <td>3230</td>\n",
       "      <td>52771</td>\n",
       "      <td></td>\n",
       "      <td></td>\n",
       "      <td></td>\n",
       "      <td>residential</td>\n",
       "      <td>80.935</td>\n",
       "      <td></td>\n",
       "      <td>Arkwright Street,North Rivoli Street</td>\n",
       "      <td>False</td>\n",
       "      <td></td>\n",
       "      <td></td>\n",
       "      <td>1</td>\n",
       "      <td>0.050322</td>\n",
       "      <td>0</td>\n",
       "      <td>0</td>\n",
       "      <td>0.0</td>\n",
       "      <td>0</td>\n",
       "      <td>1</td>\n",
       "      <td>1</td>\n",
       "      <td>1</td>\n",
       "      <td>0</td>\n",
       "      <td>[{'sequence': 1, 'point': [-93.0837695, 44.963...</td>\n",
       "      <td>NaN</td>\n",
       "      <td>LINESTRING (-93.08377 44.96334, -93.08324 44.9...</td>\n",
       "    </tr>\n",
       "    <tr>\n",
       "      <th>1</th>\n",
       "      <td>280</td>\n",
       "      <td>18218485</td>\n",
       "      <td>bff76735795c148707c774d7f7a0fa6b</td>\n",
       "      <td>13e68dc0fe4477f10b9655ebbd5f8435</td>\n",
       "      <td>493882338</td>\n",
       "      <td>493882339</td>\n",
       "      <td>3261</td>\n",
       "      <td>3262</td>\n",
       "      <td></td>\n",
       "      <td></td>\n",
       "      <td></td>\n",
       "      <td>tertiary</td>\n",
       "      <td>112.639</td>\n",
       "      <td></td>\n",
       "      <td>East Cayuga Street</td>\n",
       "      <td>False</td>\n",
       "      <td></td>\n",
       "      <td></td>\n",
       "      <td>2</td>\n",
       "      <td>0.070096</td>\n",
       "      <td>0</td>\n",
       "      <td>0</td>\n",
       "      <td>0.0</td>\n",
       "      <td>0</td>\n",
       "      <td>1</td>\n",
       "      <td>0</td>\n",
       "      <td>0</td>\n",
       "      <td>0</td>\n",
       "      <td>[{'sequence': 1, 'point': [-93.0855338, 44.966...</td>\n",
       "      <td>NaN</td>\n",
       "      <td>LINESTRING (-93.08553 44.96621, -93.08431 44.9...</td>\n",
       "    </tr>\n",
       "    <tr>\n",
       "      <th>2</th>\n",
       "      <td>281</td>\n",
       "      <td>221685888,221685889,221685893</td>\n",
       "      <td>42b68a489b91dd5a1415fb25fb53de65</td>\n",
       "      <td>9ba14c0a7330177aa938ad0ec43b45f1</td>\n",
       "      <td>493882338</td>\n",
       "      <td>2307229054</td>\n",
       "      <td>3261</td>\n",
       "      <td>131209</td>\n",
       "      <td></td>\n",
       "      <td></td>\n",
       "      <td>yes</td>\n",
       "      <td>tertiary</td>\n",
       "      <td>135.753</td>\n",
       "      <td></td>\n",
       "      <td>East Cayuga Street</td>\n",
       "      <td>True</td>\n",
       "      <td></td>\n",
       "      <td></td>\n",
       "      <td>2</td>\n",
       "      <td>0.084513</td>\n",
       "      <td>0</td>\n",
       "      <td>0</td>\n",
       "      <td>0.0</td>\n",
       "      <td>0</td>\n",
       "      <td>1</td>\n",
       "      <td>0</td>\n",
       "      <td>0</td>\n",
       "      <td>0</td>\n",
       "      <td>[{'sequence': 1, 'point': [-93.0855338, 44.966...</td>\n",
       "      <td>NaN</td>\n",
       "      <td>LINESTRING (-93.08553 44.96621, -93.08712 44.9...</td>\n",
       "    </tr>\n",
       "  </tbody>\n",
       "</table>\n",
       "</div>"
      ],
      "text/plain": [
       "   model_link_id                    osm_link_id  \\\n",
       "0            224              18214905,18220565   \n",
       "1            280                       18218485   \n",
       "2            281  221685888,221685889,221685893   \n",
       "\n",
       "                    shstReferenceId                    shstGeometryId  \\\n",
       "0  6a22969708104ae2497244f3d079381d  4a454269d65c6619a2d7e2026295a295   \n",
       "1  bff76735795c148707c774d7f7a0fa6b  13e68dc0fe4477f10b9655ebbd5f8435   \n",
       "2  42b68a489b91dd5a1415fb25fb53de65  9ba14c0a7330177aa938ad0ec43b45f1   \n",
       "\n",
       "           u           v     A       B access area bridge      highway  \\\n",
       "0  493882040   187879468  3230   52771                     residential   \n",
       "1  493882338   493882339  3261    3262                        tertiary   \n",
       "2  493882338  2307229054  3261  131209                yes     tertiary   \n",
       "\n",
       "    length maxspeed                                  name oneway tunnel width  \\\n",
       "0   80.935           Arkwright Street,North Rivoli Street  False                \n",
       "1  112.639                             East Cayuga Street  False                \n",
       "2  135.753                             East Cayuga Street   True                \n",
       "\n",
       "   lanes  distance  HOV_access  transit_priority  traveltime_assert  \\\n",
       "0      1  0.050322           0                 0                0.0   \n",
       "1      2  0.070096           0                 0                0.0   \n",
       "2      2  0.084513           0                 0                0.0   \n",
       "\n",
       "   transit_access  drive_access  walk_access  bike_access  \\\n",
       "0               0             1            1            1   \n",
       "1               0             1            0            0   \n",
       "2               0             1            0            0   \n",
       "\n",
       "   transit_walk_access                                 locationReferences  \\\n",
       "0                    0  [{'sequence': 1, 'point': [-93.0837695, 44.963...   \n",
       "1                    0  [{'sequence': 1, 'point': [-93.0855338, 44.966...   \n",
       "2                    0  [{'sequence': 1, 'point': [-93.0855338, 44.966...   \n",
       "\n",
       "   ref                                           geometry  \n",
       "0  NaN  LINESTRING (-93.08377 44.96334, -93.08324 44.9...  \n",
       "1  NaN  LINESTRING (-93.08553 44.96621, -93.08431 44.9...  \n",
       "2  NaN  LINESTRING (-93.08553 44.96621, -93.08712 44.9...  "
      ]
     },
     "execution_count": 5,
     "metadata": {},
     "output_type": "execute_result"
    }
   ],
   "source": [
    "net.links_df[:3]"
   ]
  },
  {
   "cell_type": "code",
   "execution_count": 6,
   "metadata": {},
   "outputs": [
    {
     "data": {
      "text/html": [
       "<div>\n",
       "<style scoped>\n",
       "    .dataframe tbody tr th:only-of-type {\n",
       "        vertical-align: middle;\n",
       "    }\n",
       "\n",
       "    .dataframe tbody tr th {\n",
       "        vertical-align: top;\n",
       "    }\n",
       "\n",
       "    .dataframe thead th {\n",
       "        text-align: right;\n",
       "    }\n",
       "</style>\n",
       "<table border=\"1\" class=\"dataframe\">\n",
       "  <thead>\n",
       "    <tr style=\"text-align: right;\">\n",
       "      <th></th>\n",
       "      <th>id</th>\n",
       "      <th>travelModelId</th>\n",
       "      <th>isTranNode</th>\n",
       "      <th>isDriveNode</th>\n",
       "      <th>isWalkNode</th>\n",
       "      <th>isBikeNode</th>\n",
       "      <th>outboundReferenceId</th>\n",
       "      <th>inboundReferenceId</th>\n",
       "      <th>geometry</th>\n",
       "      <th>x</th>\n",
       "      <th>y</th>\n",
       "    </tr>\n",
       "    <tr>\n",
       "      <th>osmNodeId</th>\n",
       "      <th></th>\n",
       "      <th></th>\n",
       "      <th></th>\n",
       "      <th></th>\n",
       "      <th></th>\n",
       "      <th></th>\n",
       "      <th></th>\n",
       "      <th></th>\n",
       "      <th></th>\n",
       "      <th></th>\n",
       "      <th></th>\n",
       "    </tr>\n",
       "  </thead>\n",
       "  <tbody>\n",
       "    <tr>\n",
       "      <td>1924</td>\n",
       "      <td></td>\n",
       "      <td>1924</td>\n",
       "      <td>0</td>\n",
       "      <td>1</td>\n",
       "      <td>1</td>\n",
       "      <td>1</td>\n",
       "      <td>[]</td>\n",
       "      <td>[]</td>\n",
       "      <td>POINT (-93.13665429246822 44.96983089628447)</td>\n",
       "      <td>-93.136654</td>\n",
       "      <td>44.969831</td>\n",
       "    </tr>\n",
       "    <tr>\n",
       "      <td>1925</td>\n",
       "      <td></td>\n",
       "      <td>1925</td>\n",
       "      <td>0</td>\n",
       "      <td>1</td>\n",
       "      <td>1</td>\n",
       "      <td>1</td>\n",
       "      <td>[]</td>\n",
       "      <td>[]</td>\n",
       "      <td>POINT (-93.13713235855231 44.96467765580667)</td>\n",
       "      <td>-93.137132</td>\n",
       "      <td>44.964678</td>\n",
       "    </tr>\n",
       "    <tr>\n",
       "      <td>1930</td>\n",
       "      <td></td>\n",
       "      <td>1930</td>\n",
       "      <td>0</td>\n",
       "      <td>1</td>\n",
       "      <td>1</td>\n",
       "      <td>1</td>\n",
       "      <td>[]</td>\n",
       "      <td>[]</td>\n",
       "      <td>POINT (-93.14154395797398 44.95372694803862)</td>\n",
       "      <td>-93.141544</td>\n",
       "      <td>44.953727</td>\n",
       "    </tr>\n",
       "  </tbody>\n",
       "</table>\n",
       "</div>"
      ],
      "text/plain": [
       "          id  travelModelId  isTranNode  isDriveNode  isWalkNode  isBikeNode  \\\n",
       "osmNodeId                                                                      \n",
       "1924                   1924           0            1           1           1   \n",
       "1925                   1925           0            1           1           1   \n",
       "1930                   1930           0            1           1           1   \n",
       "\n",
       "          outboundReferenceId inboundReferenceId  \\\n",
       "osmNodeId                                          \n",
       "1924                       []                 []   \n",
       "1925                       []                 []   \n",
       "1930                       []                 []   \n",
       "\n",
       "                                               geometry          x          y  \n",
       "osmNodeId                                                                      \n",
       "1924       POINT (-93.13665429246822 44.96983089628447) -93.136654  44.969831  \n",
       "1925       POINT (-93.13713235855231 44.96467765580667) -93.137132  44.964678  \n",
       "1930       POINT (-93.14154395797398 44.95372694803862) -93.141544  44.953727  "
      ]
     },
     "execution_count": 6,
     "metadata": {},
     "output_type": "execute_result"
    }
   ],
   "source": [
    "net.nodes_df[:3]"
   ]
  },
  {
   "cell_type": "code",
   "execution_count": 6,
   "metadata": {},
   "outputs": [
    {
     "data": {
      "text/html": [
       "<div>\n",
       "<style scoped>\n",
       "    .dataframe tbody tr th:only-of-type {\n",
       "        vertical-align: middle;\n",
       "    }\n",
       "\n",
       "    .dataframe tbody tr th {\n",
       "        vertical-align: top;\n",
       "    }\n",
       "\n",
       "    .dataframe thead th {\n",
       "        text-align: right;\n",
       "    }\n",
       "</style>\n",
       "<table border=\"1\" class=\"dataframe\">\n",
       "  <thead>\n",
       "    <tr style=\"text-align: right;\">\n",
       "      <th></th>\n",
       "      <th>id</th>\n",
       "      <th>shstFromIntersectionId</th>\n",
       "      <th>shstToIntersectionId</th>\n",
       "      <th>forwardReferenceId</th>\n",
       "      <th>geometry</th>\n",
       "    </tr>\n",
       "  </thead>\n",
       "  <tbody>\n",
       "    <tr>\n",
       "      <th>0</th>\n",
       "      <td>4a454269d65c6619a2d7e2026295a295</td>\n",
       "      <td>4d0231aa0ebb779f142c2518703ee481</td>\n",
       "      <td>3654951b676940911fe5021b93c90cc5</td>\n",
       "      <td>6a22969708104ae2497244f3d079381d</td>\n",
       "      <td>LINESTRING (-93.08377 44.96334, -93.08376 44.9...</td>\n",
       "    </tr>\n",
       "    <tr>\n",
       "      <th>1</th>\n",
       "      <td>13e68dc0fe4477f10b9655ebbd5f8435</td>\n",
       "      <td>b6ee5e5a4adca2f379b20fe7ee7ca77d</td>\n",
       "      <td>51013ccb2e52ee1ea83de6d36e4ef268</td>\n",
       "      <td>bff76735795c148707c774d7f7a0fa6b</td>\n",
       "      <td>LINESTRING (-93.08553 44.96621, -93.08524 44.9...</td>\n",
       "    </tr>\n",
       "    <tr>\n",
       "      <th>2</th>\n",
       "      <td>9ba14c0a7330177aa938ad0ec43b45f1</td>\n",
       "      <td>b6ee5e5a4adca2f379b20fe7ee7ca77d</td>\n",
       "      <td>863278524c056439c207888e8f09d04e</td>\n",
       "      <td>42b68a489b91dd5a1415fb25fb53de65</td>\n",
       "      <td>LINESTRING (-93.08553 44.96621, -93.08574 44.9...</td>\n",
       "    </tr>\n",
       "  </tbody>\n",
       "</table>\n",
       "</div>"
      ],
      "text/plain": [
       "                                 id            shstFromIntersectionId  \\\n",
       "0  4a454269d65c6619a2d7e2026295a295  4d0231aa0ebb779f142c2518703ee481   \n",
       "1  13e68dc0fe4477f10b9655ebbd5f8435  b6ee5e5a4adca2f379b20fe7ee7ca77d   \n",
       "2  9ba14c0a7330177aa938ad0ec43b45f1  b6ee5e5a4adca2f379b20fe7ee7ca77d   \n",
       "\n",
       "               shstToIntersectionId                forwardReferenceId  \\\n",
       "0  3654951b676940911fe5021b93c90cc5  6a22969708104ae2497244f3d079381d   \n",
       "1  51013ccb2e52ee1ea83de6d36e4ef268  bff76735795c148707c774d7f7a0fa6b   \n",
       "2  863278524c056439c207888e8f09d04e  42b68a489b91dd5a1415fb25fb53de65   \n",
       "\n",
       "                                            geometry  \n",
       "0  LINESTRING (-93.08377 44.96334, -93.08376 44.9...  \n",
       "1  LINESTRING (-93.08553 44.96621, -93.08524 44.9...  \n",
       "2  LINESTRING (-93.08553 44.96621, -93.08574 44.9...  "
      ]
     },
     "execution_count": 6,
     "metadata": {},
     "output_type": "execute_result"
    }
   ],
   "source": [
    "net.shapes_df[:3]"
   ]
  },
  {
   "cell_type": "code",
   "execution_count": 7,
   "metadata": {},
   "outputs": [
    {
     "data": {
      "text/html": [
       "<div>\n",
       "<style scoped>\n",
       "    .dataframe tbody tr th:only-of-type {\n",
       "        vertical-align: middle;\n",
       "    }\n",
       "\n",
       "    .dataframe tbody tr th {\n",
       "        vertical-align: top;\n",
       "    }\n",
       "\n",
       "    .dataframe thead th {\n",
       "        text-align: right;\n",
       "    }\n",
       "</style>\n",
       "<table border=\"1\" class=\"dataframe\">\n",
       "  <thead>\n",
       "    <tr style=\"text-align: right;\">\n",
       "      <th></th>\n",
       "      <th>route_id</th>\n",
       "      <th>agency_id</th>\n",
       "      <th>route_short_name</th>\n",
       "      <th>route_long_name</th>\n",
       "      <th>route_desc</th>\n",
       "      <th>route_type</th>\n",
       "      <th>route_url</th>\n",
       "      <th>route_color</th>\n",
       "      <th>route_text_color</th>\n",
       "    </tr>\n",
       "  </thead>\n",
       "  <tbody>\n",
       "    <tr>\n",
       "      <th>0</th>\n",
       "      <td>3-111</td>\n",
       "      <td>0</td>\n",
       "      <td>3</td>\n",
       "      <td>U of M - Como Av - Energy Park Dr - Maryland Av</td>\n",
       "      <td>NaN</td>\n",
       "      <td>3</td>\n",
       "      <td>http://www.metrotransit.org/route/3</td>\n",
       "      <td>NaN</td>\n",
       "      <td>0</td>\n",
       "    </tr>\n",
       "    <tr>\n",
       "      <th>1</th>\n",
       "      <td>16-111</td>\n",
       "      <td>2</td>\n",
       "      <td>16</td>\n",
       "      <td>University Av - Midway</td>\n",
       "      <td>NaN</td>\n",
       "      <td>3</td>\n",
       "      <td>http://www.metrotransit.org/route/16</td>\n",
       "      <td>NaN</td>\n",
       "      <td>0</td>\n",
       "    </tr>\n",
       "    <tr>\n",
       "      <th>2</th>\n",
       "      <td>21-111</td>\n",
       "      <td>0</td>\n",
       "      <td>21</td>\n",
       "      <td>Uptown - Lake St - Midway - Selby  Av</td>\n",
       "      <td>NaN</td>\n",
       "      <td>3</td>\n",
       "      <td>http://www.metrotransit.org/route/21</td>\n",
       "      <td>NaN</td>\n",
       "      <td>0</td>\n",
       "    </tr>\n",
       "  </tbody>\n",
       "</table>\n",
       "</div>"
      ],
      "text/plain": [
       "  route_id agency_id route_short_name  \\\n",
       "0    3-111         0                3   \n",
       "1   16-111         2               16   \n",
       "2   21-111         0               21   \n",
       "\n",
       "                                   route_long_name route_desc  route_type  \\\n",
       "0  U of M - Como Av - Energy Park Dr - Maryland Av        NaN           3   \n",
       "1                           University Av - Midway        NaN           3   \n",
       "2            Uptown - Lake St - Midway - Selby  Av        NaN           3   \n",
       "\n",
       "                              route_url route_color route_text_color  \n",
       "0   http://www.metrotransit.org/route/3         NaN                0  \n",
       "1  http://www.metrotransit.org/route/16         NaN                0  \n",
       "2  http://www.metrotransit.org/route/21         NaN                0  "
      ]
     },
     "execution_count": 7,
     "metadata": {},
     "output_type": "execute_result"
    }
   ],
   "source": [
    "transit_net.feed.routes[:3]"
   ]
  },
  {
   "cell_type": "code",
   "execution_count": 8,
   "metadata": {},
   "outputs": [
    {
     "data": {
      "text/html": [
       "<div>\n",
       "<style scoped>\n",
       "    .dataframe tbody tr th:only-of-type {\n",
       "        vertical-align: middle;\n",
       "    }\n",
       "\n",
       "    .dataframe tbody tr th {\n",
       "        vertical-align: top;\n",
       "    }\n",
       "\n",
       "    .dataframe thead th {\n",
       "        text-align: right;\n",
       "    }\n",
       "</style>\n",
       "<table border=\"1\" class=\"dataframe\">\n",
       "  <thead>\n",
       "    <tr style=\"text-align: right;\">\n",
       "      <th></th>\n",
       "      <th>trip_id</th>\n",
       "      <th>arrival_time</th>\n",
       "      <th>departure_time</th>\n",
       "      <th>stop_id</th>\n",
       "      <th>stop_sequence</th>\n",
       "      <th>pickup_type</th>\n",
       "      <th>drop_off_type</th>\n",
       "      <th>stop_distance</th>\n",
       "      <th>timepoint</th>\n",
       "      <th>stop_is_skipped</th>\n",
       "    </tr>\n",
       "  </thead>\n",
       "  <tbody>\n",
       "    <tr>\n",
       "      <th>0</th>\n",
       "      <td>14940701-JUN19-MVS-BUS-Weekday-01</td>\n",
       "      <td>0.0</td>\n",
       "      <td>0.0</td>\n",
       "      <td>56107</td>\n",
       "      <td>1</td>\n",
       "      <td>0</td>\n",
       "      <td>0</td>\n",
       "      <td>NaN</td>\n",
       "      <td>NaN</td>\n",
       "      <td>NaN</td>\n",
       "    </tr>\n",
       "    <tr>\n",
       "      <th>1</th>\n",
       "      <td>14940701-JUN19-MVS-BUS-Weekday-01</td>\n",
       "      <td>0.0</td>\n",
       "      <td>0.0</td>\n",
       "      <td>42823</td>\n",
       "      <td>2</td>\n",
       "      <td>0</td>\n",
       "      <td>0</td>\n",
       "      <td>NaN</td>\n",
       "      <td>NaN</td>\n",
       "      <td>NaN</td>\n",
       "    </tr>\n",
       "    <tr>\n",
       "      <th>2</th>\n",
       "      <td>14940701-JUN19-MVS-BUS-Weekday-01</td>\n",
       "      <td>0.0</td>\n",
       "      <td>0.0</td>\n",
       "      <td>44061</td>\n",
       "      <td>3</td>\n",
       "      <td>0</td>\n",
       "      <td>0</td>\n",
       "      <td>NaN</td>\n",
       "      <td>NaN</td>\n",
       "      <td>NaN</td>\n",
       "    </tr>\n",
       "  </tbody>\n",
       "</table>\n",
       "</div>"
      ],
      "text/plain": [
       "                             trip_id  arrival_time  departure_time stop_id  \\\n",
       "0  14940701-JUN19-MVS-BUS-Weekday-01           0.0             0.0   56107   \n",
       "1  14940701-JUN19-MVS-BUS-Weekday-01           0.0             0.0   42823   \n",
       "2  14940701-JUN19-MVS-BUS-Weekday-01           0.0             0.0   44061   \n",
       "\n",
       "   stop_sequence  pickup_type drop_off_type stop_distance  timepoint  \\\n",
       "0              1            0             0           NaN        NaN   \n",
       "1              2            0             0           NaN        NaN   \n",
       "2              3            0             0           NaN        NaN   \n",
       "\n",
       "  stop_is_skipped  \n",
       "0             NaN  \n",
       "1             NaN  \n",
       "2             NaN  "
      ]
     },
     "execution_count": 8,
     "metadata": {},
     "output_type": "execute_result"
    }
   ],
   "source": [
    "transit_net.feed.stop_times[:3]"
   ]
  },
  {
   "cell_type": "code",
   "execution_count": 9,
   "metadata": {},
   "outputs": [
    {
     "data": {
      "text/html": [
       "<div>\n",
       "<style scoped>\n",
       "    .dataframe tbody tr th:only-of-type {\n",
       "        vertical-align: middle;\n",
       "    }\n",
       "\n",
       "    .dataframe tbody tr th {\n",
       "        vertical-align: top;\n",
       "    }\n",
       "\n",
       "    .dataframe thead th {\n",
       "        text-align: right;\n",
       "    }\n",
       "</style>\n",
       "<table border=\"1\" class=\"dataframe\">\n",
       "  <thead>\n",
       "    <tr style=\"text-align: right;\">\n",
       "      <th></th>\n",
       "      <th>trip_id</th>\n",
       "      <th>headway_secs</th>\n",
       "      <th>start_time</th>\n",
       "      <th>end_time</th>\n",
       "    </tr>\n",
       "  </thead>\n",
       "  <tbody>\n",
       "    <tr>\n",
       "      <th>0</th>\n",
       "      <td>14940701-JUN19-MVS-BUS-Weekday-01</td>\n",
       "      <td>3600</td>\n",
       "      <td>21600.0</td>\n",
       "      <td>32400.0</td>\n",
       "    </tr>\n",
       "    <tr>\n",
       "      <th>1</th>\n",
       "      <td>14940963-JUN19-MVS-BUS-Weekday-01</td>\n",
       "      <td>1200</td>\n",
       "      <td>21600.0</td>\n",
       "      <td>32400.0</td>\n",
       "    </tr>\n",
       "    <tr>\n",
       "      <th>2</th>\n",
       "      <td>14940964-JUN19-MVS-BUS-Weekday-01</td>\n",
       "      <td>1200</td>\n",
       "      <td>32400.0</td>\n",
       "      <td>54000.0</td>\n",
       "    </tr>\n",
       "  </tbody>\n",
       "</table>\n",
       "</div>"
      ],
      "text/plain": [
       "                             trip_id  headway_secs  start_time  end_time\n",
       "0  14940701-JUN19-MVS-BUS-Weekday-01          3600     21600.0   32400.0\n",
       "1  14940963-JUN19-MVS-BUS-Weekday-01          1200     21600.0   32400.0\n",
       "2  14940964-JUN19-MVS-BUS-Weekday-01          1200     32400.0   54000.0"
      ]
     },
     "execution_count": 9,
     "metadata": {},
     "output_type": "execute_result"
    }
   ],
   "source": [
    "transit_net.feed.frequencies[0:3]"
   ]
  },
  {
   "cell_type": "code",
   "execution_count": 10,
   "metadata": {},
   "outputs": [
    {
     "data": {
      "text/html": [
       "<div>\n",
       "<style scoped>\n",
       "    .dataframe tbody tr th:only-of-type {\n",
       "        vertical-align: middle;\n",
       "    }\n",
       "\n",
       "    .dataframe tbody tr th {\n",
       "        vertical-align: top;\n",
       "    }\n",
       "\n",
       "    .dataframe thead th {\n",
       "        text-align: right;\n",
       "    }\n",
       "</style>\n",
       "<table border=\"1\" class=\"dataframe\">\n",
       "  <thead>\n",
       "    <tr style=\"text-align: right;\">\n",
       "      <th></th>\n",
       "      <th>route_id</th>\n",
       "      <th>service_id</th>\n",
       "      <th>trip_id</th>\n",
       "      <th>trip_headsign</th>\n",
       "      <th>direction_id</th>\n",
       "      <th>block_id</th>\n",
       "      <th>shape_id</th>\n",
       "      <th>wheelchair_accessible</th>\n",
       "      <th>trip_destination</th>\n",
       "      <th>trip_short_name</th>\n",
       "      <th>trip_route_name</th>\n",
       "      <th>pub_dir_id</th>\n",
       "      <th>rm_block_id</th>\n",
       "    </tr>\n",
       "  </thead>\n",
       "  <tbody>\n",
       "    <tr>\n",
       "      <th>0</th>\n",
       "      <td>452-111</td>\n",
       "      <td>JUN19-MVS-BUS-Weekday-01</td>\n",
       "      <td>14940701-JUN19-MVS-BUS-Weekday-01</td>\n",
       "      <td>Westbound 452  Express / Minneapolis</td>\n",
       "      <td>1</td>\n",
       "      <td>1874</td>\n",
       "      <td>4520004</td>\n",
       "      <td>1.0</td>\n",
       "      <td>NaN</td>\n",
       "      <td>NaN</td>\n",
       "      <td>NaN</td>\n",
       "      <td>NaN</td>\n",
       "      <td>NaN</td>\n",
       "    </tr>\n",
       "    <tr>\n",
       "      <th>1</th>\n",
       "      <td>63-111</td>\n",
       "      <td>JUN19-MVS-BUS-Weekday-01</td>\n",
       "      <td>14940963-JUN19-MVS-BUS-Weekday-01</td>\n",
       "      <td>Eastbound 63K E 3rd St / Lower Afton / Via Sunray</td>\n",
       "      <td>0</td>\n",
       "      <td>1562</td>\n",
       "      <td>630009</td>\n",
       "      <td>1.0</td>\n",
       "      <td>NaN</td>\n",
       "      <td>NaN</td>\n",
       "      <td>NaN</td>\n",
       "      <td>NaN</td>\n",
       "      <td>NaN</td>\n",
       "    </tr>\n",
       "    <tr>\n",
       "      <th>2</th>\n",
       "      <td>63-111</td>\n",
       "      <td>JUN19-MVS-BUS-Weekday-01</td>\n",
       "      <td>14940964-JUN19-MVS-BUS-Weekday-01</td>\n",
       "      <td>Westbound 63B Grand Ave/Westgate Sta</td>\n",
       "      <td>1</td>\n",
       "      <td>1556</td>\n",
       "      <td>630010</td>\n",
       "      <td>1.0</td>\n",
       "      <td>NaN</td>\n",
       "      <td>NaN</td>\n",
       "      <td>NaN</td>\n",
       "      <td>NaN</td>\n",
       "      <td>NaN</td>\n",
       "    </tr>\n",
       "  </tbody>\n",
       "</table>\n",
       "</div>"
      ],
      "text/plain": [
       "  route_id                service_id                            trip_id  \\\n",
       "0  452-111  JUN19-MVS-BUS-Weekday-01  14940701-JUN19-MVS-BUS-Weekday-01   \n",
       "1   63-111  JUN19-MVS-BUS-Weekday-01  14940963-JUN19-MVS-BUS-Weekday-01   \n",
       "2   63-111  JUN19-MVS-BUS-Weekday-01  14940964-JUN19-MVS-BUS-Weekday-01   \n",
       "\n",
       "                                       trip_headsign  direction_id block_id  \\\n",
       "0               Westbound 452  Express / Minneapolis             1     1874   \n",
       "1  Eastbound 63K E 3rd St / Lower Afton / Via Sunray             0     1562   \n",
       "2               Westbound 63B Grand Ave/Westgate Sta             1     1556   \n",
       "\n",
       "  shape_id  wheelchair_accessible trip_destination trip_short_name  \\\n",
       "0  4520004                    1.0              NaN             NaN   \n",
       "1   630009                    1.0              NaN             NaN   \n",
       "2   630010                    1.0              NaN             NaN   \n",
       "\n",
       "  trip_route_name pub_dir_id rm_block_id  \n",
       "0             NaN        NaN         NaN  \n",
       "1             NaN        NaN         NaN  \n",
       "2             NaN        NaN         NaN  "
      ]
     },
     "execution_count": 10,
     "metadata": {},
     "output_type": "execute_result"
    }
   ],
   "source": [
    "transit_net.feed.trips[0:3]"
   ]
  },
  {
   "cell_type": "code",
   "execution_count": 11,
   "metadata": {},
   "outputs": [
    {
     "data": {
      "text/html": [
       "<div>\n",
       "<style scoped>\n",
       "    .dataframe tbody tr th:only-of-type {\n",
       "        vertical-align: middle;\n",
       "    }\n",
       "\n",
       "    .dataframe tbody tr th {\n",
       "        vertical-align: top;\n",
       "    }\n",
       "\n",
       "    .dataframe thead th {\n",
       "        text-align: right;\n",
       "    }\n",
       "</style>\n",
       "<table border=\"1\" class=\"dataframe\">\n",
       "  <thead>\n",
       "    <tr style=\"text-align: right;\">\n",
       "      <th></th>\n",
       "      <th>stop_id</th>\n",
       "      <th>stop_code</th>\n",
       "      <th>stop_name</th>\n",
       "      <th>stop_desc</th>\n",
       "      <th>stop_lat</th>\n",
       "      <th>stop_lon</th>\n",
       "      <th>zone_id</th>\n",
       "      <th>stop_url</th>\n",
       "      <th>location_type</th>\n",
       "      <th>wheelchair_boarding</th>\n",
       "      <th>model_node_id</th>\n",
       "      <th>osm_link_id</th>\n",
       "      <th>node_ssid</th>\n",
       "      <th>parent_station</th>\n",
       "    </tr>\n",
       "  </thead>\n",
       "  <tbody>\n",
       "    <tr>\n",
       "      <th>0</th>\n",
       "      <td>10037</td>\n",
       "      <td>NaN</td>\n",
       "      <td>Fillmore Ave E &amp; Robert St</td>\n",
       "      <td>Far side E</td>\n",
       "      <td>44.941361</td>\n",
       "      <td>-93.084769</td>\n",
       "      <td>NaN</td>\n",
       "      <td>http://www.metrotransit.org/NexTripBadge.aspx?...</td>\n",
       "      <td>0</td>\n",
       "      <td>1.0</td>\n",
       "      <td>57992</td>\n",
       "      <td>187891416</td>\n",
       "      <td>98e48a4ff360a8833c1f04b975fb8f73</td>\n",
       "      <td>NaN</td>\n",
       "    </tr>\n",
       "    <tr>\n",
       "      <th>1</th>\n",
       "      <td>10039</td>\n",
       "      <td>NaN</td>\n",
       "      <td>Fillmore Ave E &amp; State St</td>\n",
       "      <td>Near side E</td>\n",
       "      <td>44.943261</td>\n",
       "      <td>-93.080287</td>\n",
       "      <td>NaN</td>\n",
       "      <td>http://www.metrotransit.org/NexTripBadge.aspx?...</td>\n",
       "      <td>0</td>\n",
       "      <td>2.0</td>\n",
       "      <td>46975</td>\n",
       "      <td>187868185</td>\n",
       "      <td>1203d85e0764f1e36a8a598977364db0</td>\n",
       "      <td>NaN</td>\n",
       "    </tr>\n",
       "    <tr>\n",
       "      <th>2</th>\n",
       "      <td>10040</td>\n",
       "      <td>NaN</td>\n",
       "      <td>Fillmore Ave E &amp; Lafayette Rd W</td>\n",
       "      <td>Near side E</td>\n",
       "      <td>44.943613</td>\n",
       "      <td>-93.078382</td>\n",
       "      <td>NaN</td>\n",
       "      <td>http://www.metrotransit.org/NexTripBadge.aspx?...</td>\n",
       "      <td>0</td>\n",
       "      <td>2.0</td>\n",
       "      <td>57958</td>\n",
       "      <td>187891352</td>\n",
       "      <td>3127e296d73928bc1cec808a7acd6d3a</td>\n",
       "      <td>NaN</td>\n",
       "    </tr>\n",
       "  </tbody>\n",
       "</table>\n",
       "</div>"
      ],
      "text/plain": [
       "  stop_id stop_code                        stop_name    stop_desc   stop_lat  \\\n",
       "0   10037       NaN       Fillmore Ave E & Robert St   Far side E  44.941361   \n",
       "1   10039       NaN        Fillmore Ave E & State St  Near side E  44.943261   \n",
       "2   10040       NaN  Fillmore Ave E & Lafayette Rd W  Near side E  44.943613   \n",
       "\n",
       "    stop_lon zone_id                                           stop_url  \\\n",
       "0 -93.084769     NaN  http://www.metrotransit.org/NexTripBadge.aspx?...   \n",
       "1 -93.080287     NaN  http://www.metrotransit.org/NexTripBadge.aspx?...   \n",
       "2 -93.078382     NaN  http://www.metrotransit.org/NexTripBadge.aspx?...   \n",
       "\n",
       "   location_type  wheelchair_boarding model_node_id osm_link_id  \\\n",
       "0              0                  1.0         57992   187891416   \n",
       "1              0                  2.0         46975   187868185   \n",
       "2              0                  2.0         57958   187891352   \n",
       "\n",
       "                          node_ssid parent_station  \n",
       "0  98e48a4ff360a8833c1f04b975fb8f73            NaN  \n",
       "1  1203d85e0764f1e36a8a598977364db0            NaN  \n",
       "2  3127e296d73928bc1cec808a7acd6d3a            NaN  "
      ]
     },
     "execution_count": 11,
     "metadata": {},
     "output_type": "execute_result"
    }
   ],
   "source": [
    "transit_net.feed.stops[:3]"
   ]
  },
  {
   "cell_type": "code",
   "execution_count": 21,
   "metadata": {},
   "outputs": [
    {
     "data": {
      "text/plain": [
       "<matplotlib.axes._subplots.AxesSubplot at 0x1166fa5f8>"
      ]
     },
     "execution_count": 21,
     "metadata": {},
     "output_type": "execute_result"
    },
    {
     "data": {
      "image/png": "[encoded data removed]",
      "text/plain": [
       "<Figure size 432x288 with 1 Axes>"
      ]
     },
     "metadata": {
      "needs_background": "light"
     },
     "output_type": "display_data"
    }
   ],
   "source": [
    "stops_gdf = gpd.GeoDataFrame(\n",
    "    transit_net.feed.stops, geometry=gpd.points_from_xy(transit_net.feed.stops.stop_lon, transit_net.feed.stops.stop_lat))\n",
    "stops_gdf.plot(column='wheelchair_boarding')"
   ]
  },
  {
   "cell_type": "code",
   "execution_count": 24,
   "metadata": {},
   "outputs": [
    {
     "data": {
      "text/html": [
       "<div>\n",
       "<style scoped>\n",
       "    .dataframe tbody tr th:only-of-type {\n",
       "        vertical-align: middle;\n",
       "    }\n",
       "\n",
       "    .dataframe tbody tr th {\n",
       "        vertical-align: top;\n",
       "    }\n",
       "\n",
       "    .dataframe thead th {\n",
       "        text-align: right;\n",
       "    }\n",
       "</style>\n",
       "<table border=\"1\" class=\"dataframe\">\n",
       "  <thead>\n",
       "    <tr style=\"text-align: right;\">\n",
       "      <th></th>\n",
       "      <th>shape_id</th>\n",
       "      <th>shape_pt_lat</th>\n",
       "      <th>shape_pt_lon</th>\n",
       "      <th>shape_pt_sequence</th>\n",
       "      <th>shape_osm_link_id</th>\n",
       "      <th>shape_model_node_id</th>\n",
       "    </tr>\n",
       "  </thead>\n",
       "  <tbody>\n",
       "    <tr>\n",
       "      <th>0</th>\n",
       "      <td>4520004</td>\n",
       "      <td>44.865526</td>\n",
       "      <td>-93.132239</td>\n",
       "      <td>1</td>\n",
       "      <td>1977347010</td>\n",
       "      <td>81615</td>\n",
       "    </tr>\n",
       "    <tr>\n",
       "      <th>1</th>\n",
       "      <td>4520004</td>\n",
       "      <td>44.865422</td>\n",
       "      <td>-93.131905</td>\n",
       "      <td>2</td>\n",
       "      <td>1977346948</td>\n",
       "      <td>81582</td>\n",
       "    </tr>\n",
       "    <tr>\n",
       "      <th>2</th>\n",
       "      <td>4520004</td>\n",
       "      <td>44.865402</td>\n",
       "      <td>-93.131606</td>\n",
       "      <td>3</td>\n",
       "      <td>1977346942</td>\n",
       "      <td>81579</td>\n",
       "    </tr>\n",
       "    <tr>\n",
       "      <th>3</th>\n",
       "      <td>4520004</td>\n",
       "      <td>44.865735</td>\n",
       "      <td>-93.130994</td>\n",
       "      <td>4</td>\n",
       "      <td>186841006</td>\n",
       "      <td>57097</td>\n",
       "    </tr>\n",
       "    <tr>\n",
       "      <th>4</th>\n",
       "      <td>4520004</td>\n",
       "      <td>44.865827</td>\n",
       "      <td>-93.130689</td>\n",
       "      <td>5</td>\n",
       "      <td>186759898</td>\n",
       "      <td>24534</td>\n",
       "    </tr>\n",
       "  </tbody>\n",
       "</table>\n",
       "</div>"
      ],
      "text/plain": [
       "  shape_id  shape_pt_lat  shape_pt_lon  shape_pt_sequence shape_osm_link_id  \\\n",
       "0  4520004     44.865526    -93.132239                  1        1977347010   \n",
       "1  4520004     44.865422    -93.131905                  2        1977346948   \n",
       "2  4520004     44.865402    -93.131606                  3        1977346942   \n",
       "3  4520004     44.865735    -93.130994                  4         186841006   \n",
       "4  4520004     44.865827    -93.130689                  5         186759898   \n",
       "\n",
       "  shape_model_node_id  \n",
       "0               81615  \n",
       "1               81582  \n",
       "2               81579  \n",
       "3               57097  \n",
       "4               24534  "
      ]
     },
     "execution_count": 24,
     "metadata": {},
     "output_type": "execute_result"
    }
   ],
   "source": [
    "transit_net.feed.shapes[:5]\n",
    "# this can be a geodataframe, but have it turned off for now b/c of issues with partridge"
   ]
  },
  {
   "cell_type": "markdown",
   "metadata": {},
   "source": [
    "## 2. Query Network Features\n",
    "\n",
    "Most of Network wrangler operates by querying a portion of the network and then making changes to it.  \n",
    "\n",
    "Queries take the form of Python Dictionaries or can be read-in as YAML which is then converted to a python dictionary.\n",
    "\n",
    "If a query has already been made, it is stored in the network so that it will not take up computing power to find it again.\n",
    "\n",
    "### Highway Segment Selection\n",
    "\n",
    "Highway selections have three required components: 'link', 'A', and 'B'.  \n",
    "\n",
    "'link' must either have a specified name, or an 'osmid'\n",
    "\n",
    "'A' and 'B' must specify some sort of unique identifier which is found in the data structure (AKA, it should return a single node).\n",
    "\n",
    "If not all the links connecting A to B have the 'name' or an 'osmid', wrangler will connect the dots from A-->B using as many streets with the correct name/osmid as possible."
   ]
  },
  {
   "cell_type": "code",
   "execution_count": 27,
   "metadata": {},
   "outputs": [],
   "source": [
    "easy_highway_selection = \\\n",
    "{\n",
    "    'link':[\n",
    "        {'name': ['6th', 'Sixth', 'sixth']}, #find streets that have one of the various forms of 6th\n",
    "        ],\n",
    "     'A':{'osm_node_id': '187899923'}, # start searching for segments at A\n",
    "     'B':{'osm_node_id': '187865924'}, # end at B\n",
    "}"
   ]
  },
  {
   "cell_type": "code",
   "execution_count": 28,
   "metadata": {},
   "outputs": [
    {
     "data": {
      "text/plain": [
       "[1125, 4498, 5570]"
      ]
     },
     "execution_count": 28,
     "metadata": {},
     "output_type": "execute_result"
    }
   ],
   "source": [
    "# querying with the selection will return the links that are selected\n",
    "net.select_roadway_features(easy_highway_selection)"
   ]
  },
  {
   "cell_type": "code",
   "execution_count": 36,
   "metadata": {},
   "outputs": [],
   "source": [
    "# wrangler has other information about the facility selection stored under a unique key, including a graph and a route\n",
    "A_id, B_id = net.orig_dest_nodes_foreign_key(easy_highway_selection)\n",
    "easy_key = (ProjectCard.build_link_selection_query(easy_highway_selection, unique_model_link_identifiers = ['model_link_id']), A_id, B_id)\n",
    "\n",
    "G               = net.selections[easy_key]['graph']\n",
    "selection_route = net.selections[easy_key]['route']\n",
    "selected_links  = net.selections[easy_key]['selected_links']"
   ]
  },
  {
   "cell_type": "markdown",
   "metadata": {},
   "source": [
    "#### Visualizing the selection to verify it is correct"
   ]
  },
  {
   "cell_type": "code",
   "execution_count": 31,
   "metadata": {},
   "outputs": [],
   "source": [
    "try:\n",
    "    import osmnx as ox\n",
    "except:\n",
    "    !conda install osmnx\n",
    "try:\n",
    "    import folium\n",
    "except:\n",
    "    !conda install folium\n",
    "\n",
    "## todo make this part of wrangler\n",
    "## todo visualize with shapes rather than links\n",
    "    \n",
    "def folium_node(node, node_name, color='white', icon = ''):\n",
    "        node_marker = folium.Marker(location=[node['y'],node['x']], \n",
    "                                    icon=folium.Icon(icon = icon, color=color), \n",
    "                                    tooltip=node_name,\n",
    "                                   )\n",
    "        return node_marker\n",
    "    \n",
    "def map_selection(stored_selection, A_name, B_name):\n",
    "        '''\n",
    "        Shows which links are selected\n",
    "        '''\n",
    "        \n",
    "        \n",
    "        m = ox.plot_graph_folium(stored_selection['graph'], \n",
    "                                 edge_color='blue',\n",
    "                                 edge_width=5, \n",
    "                                 edge_opacity = 0.6,\n",
    "                                 tiles='cartodbdark_matter')\n",
    "        \n",
    "        A     = stored_selection['graph'].nodes[A_name]\n",
    "        B     = stored_selection['graph'].nodes[B_name]\n",
    "        \n",
    "        folium_node(A, A_name, color=\"green\", icon = 'play').add_to(m)\n",
    "        folium_node(B, B_name, color=\"pink\", icon = 'star').add_to(m)\n",
    "        \n",
    "        for _, row in stored_selection['selected_links'].iterrows():\n",
    "            pl = ox.plot.make_folium_polyline(edge=row, edge_color=\"green\", edge_width=7,\n",
    "                                      edge_opacity=0.8)\n",
    "            pl.add_to(m)\n",
    "            \n",
    "        \n",
    "        return m"
   ]
  },
  {
   "cell_type": "code",
   "execution_count": 32,
   "metadata": {},
   "outputs": [
    {
     "data": {
      "text/html": [
       "<div style=\"width:100%;\"><div style=\"position:relative;width:100%;height:0;padding-bottom:60%;\"><iframe src=\"data:text/html;charset=utf-8;base64,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\" style=\"position:absolute;width:100%;height:100%;left:0;top:0;border:none !important;\" allowfullscreen webkitallowfullscreen mozallowfullscreen></iframe></div></div>"
      ],
      "text/plain": [
       "<folium.folium.Map at 0x116510a58>"
      ]
     },
     "execution_count": 32,
     "metadata": {},
     "output_type": "execute_result"
    }
   ],
   "source": [
    "map_selection(net.selections[easy_key], A_id, B_id)\n",
    "\n",
    "# this map shows the links that were considered because of their OSMid or their name in blue, \n",
    "# and the final selection in green"
   ]
  },
  {
   "cell_type": "markdown",
   "metadata": {},
   "source": [
    "### More complex selections\n",
    "\n",
    "You can also select facilities based on their properties.  This selection is tiered from the name/osmid selection."
   ]
  },
  {
   "cell_type": "code",
   "execution_count": 34,
   "metadata": {},
   "outputs": [
    {
     "data": {
      "text/plain": [
       "[1125, 4498, 5570]"
      ]
     },
     "execution_count": 34,
     "metadata": {},
     "output_type": "execute_result"
    }
   ],
   "source": [
    "multi_criteria_selection = \\\n",
    "{\n",
    "    'link':[\n",
    "        {'name': ['6th', 'Sixth', 'sixth']}, #find streets that have one of the various forms of 6th\n",
    "        {'lanes': [1,2]}, # only select links that are either 1 or 2 lanes\n",
    "         ],\n",
    "     'A':{'osm_node_id': '187899923'}, # start searching for segments at A\n",
    "     'B':{'osm_node_id': '187865924'}, # end at B\n",
    "}\n",
    "net.select_roadway_features(multi_criteria_selection )"
   ]
  },
  {
   "cell_type": "code",
   "execution_count": 40,
   "metadata": {},
   "outputs": [
    {
     "data": {
      "text/html": [
       "<div style=\"width:100%;\"><div style=\"position:relative;width:100%;height:0;padding-bottom:60%;\"><iframe src=\"data:text/html;charset=utf-8;base64,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\" style=\"position:absolute;width:100%;height:100%;left:0;top:0;border:none !important;\" allowfullscreen webkitallowfullscreen mozallowfullscreen></iframe></div></div>"
      ],
      "text/plain": [
       "<folium.folium.Map at 0x11641cdd8>"
      ]
     },
     "execution_count": 40,
     "metadata": {},
     "output_type": "execute_result"
    }
   ],
   "source": [
    "A_id, B_id = net.orig_dest_nodes_foreign_key(multi_criteria_selection)\n",
    "multi_criteria_key = (ProjectCard.build_link_selection_query(multi_criteria_selection,unique_model_link_identifiers= ['model_link_id']), A_id, B_id)\n",
    "map_selection(net.selections[multi_criteria_key], A_id, B_id)"
   ]
  },
  {
   "cell_type": "markdown",
   "metadata": {},
   "source": [
    "### Transit Selection\n",
    "\n",
    "\n",
    "Transit trip selection can currently happen by querying trips, routes, etc."
   ]
  },
  {
   "cell_type": "code",
   "execution_count": 41,
   "metadata": {},
   "outputs": [
    {
     "data": {
      "text/html": [
       "<div>\n",
       "<style scoped>\n",
       "    .dataframe tbody tr th:only-of-type {\n",
       "        vertical-align: middle;\n",
       "    }\n",
       "\n",
       "    .dataframe tbody tr th {\n",
       "        vertical-align: top;\n",
       "    }\n",
       "\n",
       "    .dataframe thead th {\n",
       "        text-align: right;\n",
       "    }\n",
       "</style>\n",
       "<table border=\"1\" class=\"dataframe\">\n",
       "  <thead>\n",
       "    <tr style=\"text-align: right;\">\n",
       "      <th></th>\n",
       "      <th>route_id</th>\n",
       "      <th>service_id</th>\n",
       "      <th>trip_id</th>\n",
       "      <th>trip_headsign</th>\n",
       "      <th>direction_id</th>\n",
       "      <th>block_id</th>\n",
       "      <th>shape_id</th>\n",
       "      <th>wheelchair_accessible</th>\n",
       "      <th>trip_destination</th>\n",
       "      <th>trip_short_name</th>\n",
       "      <th>trip_route_name</th>\n",
       "      <th>pub_dir_id</th>\n",
       "      <th>rm_block_id</th>\n",
       "    </tr>\n",
       "  </thead>\n",
       "  <tbody>\n",
       "    <tr>\n",
       "      <th>59</th>\n",
       "      <td>365-111</td>\n",
       "      <td>JUN19-MVS-BUS-Weekday-01</td>\n",
       "      <td>14947182-JUN19-MVS-BUS-Weekday-01</td>\n",
       "      <td>Northbound 365  Express / Minneapolis</td>\n",
       "      <td>0</td>\n",
       "      <td>1844</td>\n",
       "      <td>3650001</td>\n",
       "      <td>1.0</td>\n",
       "      <td>NaN</td>\n",
       "      <td>NaN</td>\n",
       "      <td>NaN</td>\n",
       "      <td>NaN</td>\n",
       "      <td>NaN</td>\n",
       "    </tr>\n",
       "  </tbody>\n",
       "</table>\n",
       "</div>"
      ],
      "text/plain": [
       "   route_id                service_id                            trip_id  \\\n",
       "59  365-111  JUN19-MVS-BUS-Weekday-01  14947182-JUN19-MVS-BUS-Weekday-01   \n",
       "\n",
       "                            trip_headsign  direction_id block_id shape_id  \\\n",
       "59  Northbound 365  Express / Minneapolis             0     1844  3650001   \n",
       "\n",
       "    wheelchair_accessible trip_destination trip_short_name trip_route_name  \\\n",
       "59                    1.0              NaN             NaN             NaN   \n",
       "\n",
       "   pub_dir_id rm_block_id  \n",
       "59        NaN         NaN  "
      ]
     },
     "execution_count": 41,
     "metadata": {},
     "output_type": "execute_result"
    }
   ],
   "source": [
    "simple_transit_selection = {\"route_id\": \"365-111\"}\n",
    "selected_trips = transit_net.select_transit_features(simple_transit_selection)\n",
    "\n",
    "transit_net.feed.trips[transit_net.feed.trips.trip_id.isin(selected_trips)]"
   ]
  },
  {
   "cell_type": "code",
   "execution_count": 44,
   "metadata": {},
   "outputs": [
    {
     "data": {
      "text/html": [
       "<div>\n",
       "<style scoped>\n",
       "    .dataframe tbody tr th:only-of-type {\n",
       "        vertical-align: middle;\n",
       "    }\n",
       "\n",
       "    .dataframe tbody tr th {\n",
       "        vertical-align: top;\n",
       "    }\n",
       "\n",
       "    .dataframe thead th {\n",
       "        text-align: right;\n",
       "    }\n",
       "</style>\n",
       "<table border=\"1\" class=\"dataframe\">\n",
       "  <thead>\n",
       "    <tr style=\"text-align: right;\">\n",
       "      <th></th>\n",
       "      <th>route_id</th>\n",
       "      <th>agency_id</th>\n",
       "      <th>route_short_name</th>\n",
       "      <th>route_long_name</th>\n",
       "      <th>route_desc</th>\n",
       "      <th>route_type</th>\n",
       "      <th>route_url</th>\n",
       "      <th>route_color</th>\n",
       "      <th>route_text_color</th>\n",
       "    </tr>\n",
       "  </thead>\n",
       "  <tbody>\n",
       "    <tr>\n",
       "      <th>5</th>\n",
       "      <td>61-111</td>\n",
       "      <td>0</td>\n",
       "      <td>61</td>\n",
       "      <td>E Hennepin Av - Larpenteur Av - Arcade St</td>\n",
       "      <td>NaN</td>\n",
       "      <td>3</td>\n",
       "      <td>http://www.metrotransit.org/route/61</td>\n",
       "      <td>NaN</td>\n",
       "      <td>0</td>\n",
       "    </tr>\n",
       "    <tr>\n",
       "      <th>6</th>\n",
       "      <td>62-111</td>\n",
       "      <td>0</td>\n",
       "      <td>62</td>\n",
       "      <td>Shoreview - Little Canada - Rice St Signal Hills</td>\n",
       "      <td>NaN</td>\n",
       "      <td>3</td>\n",
       "      <td>http://www.metrotransit.org/route/62</td>\n",
       "      <td>NaN</td>\n",
       "      <td>0</td>\n",
       "    </tr>\n",
       "    <tr>\n",
       "      <th>7</th>\n",
       "      <td>63-111</td>\n",
       "      <td>0</td>\n",
       "      <td>63</td>\n",
       "      <td>Raymond Sta - Grand Av - Sunray - McKnight Rd</td>\n",
       "      <td>NaN</td>\n",
       "      <td>3</td>\n",
       "      <td>http://www.metrotransit.org/route/63</td>\n",
       "      <td>NaN</td>\n",
       "      <td>0</td>\n",
       "    </tr>\n",
       "    <tr>\n",
       "      <th>8</th>\n",
       "      <td>64-111</td>\n",
       "      <td>0</td>\n",
       "      <td>64</td>\n",
       "      <td>Payne - Maryland - White Bear Av - Maplewood Mall</td>\n",
       "      <td>NaN</td>\n",
       "      <td>3</td>\n",
       "      <td>http://www.metrotransit.org/route/64</td>\n",
       "      <td>NaN</td>\n",
       "      <td>0</td>\n",
       "    </tr>\n",
       "  </tbody>\n",
       "</table>\n",
       "</div>"
      ],
      "text/plain": [
       "  route_id agency_id route_short_name  \\\n",
       "5   61-111         0               61   \n",
       "6   62-111         0               62   \n",
       "7   63-111         0               63   \n",
       "8   64-111         0               64   \n",
       "\n",
       "                                     route_long_name route_desc  route_type  \\\n",
       "5          E Hennepin Av - Larpenteur Av - Arcade St        NaN           3   \n",
       "6   Shoreview - Little Canada - Rice St Signal Hills        NaN           3   \n",
       "7      Raymond Sta - Grand Av - Sunray - McKnight Rd        NaN           3   \n",
       "8  Payne - Maryland - White Bear Av - Maplewood Mall        NaN           3   \n",
       "\n",
       "                              route_url route_color route_text_color  \n",
       "5  http://www.metrotransit.org/route/61         NaN                0  \n",
       "6  http://www.metrotransit.org/route/62         NaN                0  \n",
       "7  http://www.metrotransit.org/route/63         NaN                0  \n",
       "8  http://www.metrotransit.org/route/64         NaN                0  "
      ]
     },
     "execution_count": 44,
     "metadata": {},
     "output_type": "execute_result"
    }
   ],
   "source": [
    "simple_transit_selection = {\"route_short_name\": \"3\"}\n",
    "selected_trips = transit_net.select_transit_features(simple_transit_selection)\n",
    "\n",
    "transit_net.feed.routes[transit_net.feed.trips.trip_id.isin(selected_trips)]"
   ]
  },
  {
   "cell_type": "markdown",
   "metadata": {},
   "source": [
    "#### Visualize selection on map\n",
    "\n",
    "Note that this is a mouthful of code.  I have a todo to write a wrapper around this so that you can easily visualize with an api of something like:  `transit_net.select_transit_features(simple_transit_selection).plot()`"
   ]
  },
  {
   "cell_type": "code",
   "execution_count": 43,
   "metadata": {},
   "outputs": [
    {
     "ename": "IndexingError",
     "evalue": "Unalignable boolean Series provided as indexer (index of the boolean Series and of the indexed object do not match).",
     "output_type": "error",
     "traceback": [
      "\u001b[0;31m---------------------------------------------------------------------------\u001b[0m",
      "\u001b[0;31mIndexingError\u001b[0m                             Traceback (most recent call last)",
      "\u001b[0;32m<ipython-input-43-29f3abeba22a>\u001b[0m in \u001b[0;36m<module>\u001b[0;34m\u001b[0m\n\u001b[1;32m      1\u001b[0m \u001b[0mall_routes\u001b[0m \u001b[0;34m=\u001b[0m \u001b[0mtransit_net\u001b[0m\u001b[0;34m.\u001b[0m\u001b[0mfeed\u001b[0m\u001b[0;34m.\u001b[0m\u001b[0mshapes\u001b[0m\u001b[0;34m.\u001b[0m\u001b[0mplot\u001b[0m\u001b[0;34m(\u001b[0m\u001b[0mcolor\u001b[0m\u001b[0;34m=\u001b[0m\u001b[0;34m'gray'\u001b[0m\u001b[0;34m)\u001b[0m\u001b[0;34m\u001b[0m\u001b[0;34m\u001b[0m\u001b[0m\n\u001b[0;32m----> 2\u001b[0;31m \u001b[0mtransit_net\u001b[0m\u001b[0;34m.\u001b[0m\u001b[0mfeed\u001b[0m\u001b[0;34m.\u001b[0m\u001b[0mshapes\u001b[0m\u001b[0;34m[\u001b[0m\u001b[0mtransit_net\u001b[0m\u001b[0;34m.\u001b[0m\u001b[0mfeed\u001b[0m\u001b[0;34m.\u001b[0m\u001b[0mtrips\u001b[0m\u001b[0;34m.\u001b[0m\u001b[0mtrip_id\u001b[0m\u001b[0;34m.\u001b[0m\u001b[0misin\u001b[0m\u001b[0;34m(\u001b[0m\u001b[0mselected_trips\u001b[0m\u001b[0;34m)\u001b[0m\u001b[0;34m]\u001b[0m\u001b[0;34m.\u001b[0m\u001b[0mplot\u001b[0m\u001b[0;34m(\u001b[0m\u001b[0max\u001b[0m\u001b[0;34m=\u001b[0m\u001b[0mall_routes\u001b[0m\u001b[0;34m,\u001b[0m \u001b[0mcolor\u001b[0m\u001b[0;34m=\u001b[0m\u001b[0;34m\"red\"\u001b[0m\u001b[0;34m)\u001b[0m\u001b[0;34m\u001b[0m\u001b[0;34m\u001b[0m\u001b[0m\n\u001b[0m",
      "\u001b[0;32m~/anaconda3/envs/wrangler/lib/python3.7/site-packages/pandas/core/frame.py\u001b[0m in \u001b[0;36m__getitem__\u001b[0;34m(self, key)\u001b[0m\n\u001b[1;32m   2984\u001b[0m         \u001b[0;31m# Do we have a (boolean) 1d indexer?\u001b[0m\u001b[0;34m\u001b[0m\u001b[0;34m\u001b[0m\u001b[0;34m\u001b[0m\u001b[0m\n\u001b[1;32m   2985\u001b[0m         \u001b[0;32mif\u001b[0m \u001b[0mcom\u001b[0m\u001b[0;34m.\u001b[0m\u001b[0mis_bool_indexer\u001b[0m\u001b[0;34m(\u001b[0m\u001b[0mkey\u001b[0m\u001b[0;34m)\u001b[0m\u001b[0;34m:\u001b[0m\u001b[0;34m\u001b[0m\u001b[0;34m\u001b[0m\u001b[0m\n\u001b[0;32m-> 2986\u001b[0;31m             \u001b[0;32mreturn\u001b[0m \u001b[0mself\u001b[0m\u001b[0;34m.\u001b[0m\u001b[0m_getitem_bool_array\u001b[0m\u001b[0;34m(\u001b[0m\u001b[0mkey\u001b[0m\u001b[0;34m)\u001b[0m\u001b[0;34m\u001b[0m\u001b[0;34m\u001b[0m\u001b[0m\n\u001b[0m\u001b[1;32m   2987\u001b[0m \u001b[0;34m\u001b[0m\u001b[0m\n\u001b[1;32m   2988\u001b[0m         \u001b[0;31m# We are left with two options: a single key, and a collection of keys,\u001b[0m\u001b[0;34m\u001b[0m\u001b[0;34m\u001b[0m\u001b[0;34m\u001b[0m\u001b[0m\n",
      "\u001b[0;32m~/anaconda3/envs/wrangler/lib/python3.7/site-packages/pandas/core/frame.py\u001b[0m in \u001b[0;36m_getitem_bool_array\u001b[0;34m(self, key)\u001b[0m\n\u001b[1;32m   3036\u001b[0m         \u001b[0;31m# check_bool_indexer will throw exception if Series key cannot\u001b[0m\u001b[0;34m\u001b[0m\u001b[0;34m\u001b[0m\u001b[0;34m\u001b[0m\u001b[0m\n\u001b[1;32m   3037\u001b[0m         \u001b[0;31m# be reindexed to match DataFrame rows\u001b[0m\u001b[0;34m\u001b[0m\u001b[0;34m\u001b[0m\u001b[0;34m\u001b[0m\u001b[0m\n\u001b[0;32m-> 3038\u001b[0;31m         \u001b[0mkey\u001b[0m \u001b[0;34m=\u001b[0m \u001b[0mcheck_bool_indexer\u001b[0m\u001b[0;34m(\u001b[0m\u001b[0mself\u001b[0m\u001b[0;34m.\u001b[0m\u001b[0mindex\u001b[0m\u001b[0;34m,\u001b[0m \u001b[0mkey\u001b[0m\u001b[0;34m)\u001b[0m\u001b[0;34m\u001b[0m\u001b[0;34m\u001b[0m\u001b[0m\n\u001b[0m\u001b[1;32m   3039\u001b[0m         \u001b[0mindexer\u001b[0m \u001b[0;34m=\u001b[0m \u001b[0mkey\u001b[0m\u001b[0;34m.\u001b[0m\u001b[0mnonzero\u001b[0m\u001b[0;34m(\u001b[0m\u001b[0;34m)\u001b[0m\u001b[0;34m[\u001b[0m\u001b[0;36m0\u001b[0m\u001b[0;34m]\u001b[0m\u001b[0;34m\u001b[0m\u001b[0;34m\u001b[0m\u001b[0m\n\u001b[1;32m   3040\u001b[0m         \u001b[0;32mreturn\u001b[0m \u001b[0mself\u001b[0m\u001b[0;34m.\u001b[0m\u001b[0mtake\u001b[0m\u001b[0;34m(\u001b[0m\u001b[0mindexer\u001b[0m\u001b[0;34m,\u001b[0m \u001b[0maxis\u001b[0m\u001b[0;34m=\u001b[0m\u001b[0;36m0\u001b[0m\u001b[0;34m)\u001b[0m\u001b[0;34m\u001b[0m\u001b[0;34m\u001b[0m\u001b[0m\n",
      "\u001b[0;32m~/anaconda3/envs/wrangler/lib/python3.7/site-packages/pandas/core/indexing.py\u001b[0m in \u001b[0;36mcheck_bool_indexer\u001b[0;34m(index, key)\u001b[0m\n\u001b[1;32m   2409\u001b[0m         \u001b[0;32mif\u001b[0m \u001b[0mmask\u001b[0m\u001b[0;34m.\u001b[0m\u001b[0many\u001b[0m\u001b[0;34m(\u001b[0m\u001b[0;34m)\u001b[0m\u001b[0;34m:\u001b[0m\u001b[0;34m\u001b[0m\u001b[0;34m\u001b[0m\u001b[0m\n\u001b[1;32m   2410\u001b[0m             raise IndexingError(\n\u001b[0;32m-> 2411\u001b[0;31m                 \u001b[0;34m\"Unalignable boolean Series provided as \"\u001b[0m\u001b[0;34m\u001b[0m\u001b[0;34m\u001b[0m\u001b[0m\n\u001b[0m\u001b[1;32m   2412\u001b[0m                 \u001b[0;34m\"indexer (index of the boolean Series and of \"\u001b[0m\u001b[0;34m\u001b[0m\u001b[0;34m\u001b[0m\u001b[0m\n\u001b[1;32m   2413\u001b[0m                 \u001b[0;34m\"the indexed object do not match).\"\u001b[0m\u001b[0;34m\u001b[0m\u001b[0;34m\u001b[0m\u001b[0m\n",
      "\u001b[0;31mIndexingError\u001b[0m: Unalignable boolean Series provided as indexer (index of the boolean Series and of the indexed object do not match)."
     ]
    },
    {
     "data": {
      "image/png": "[encoded data removed]",
      "text/plain": [
       "<Figure size 432x288 with 1 Axes>"
      ]
     },
     "metadata": {
      "needs_background": "light"
     },
     "output_type": "display_data"
    }
   ],
   "source": [
    "#NOTE not currently working because of partridge/geopandas issues. Working to resolve.\n",
    "all_routes = transit_net.feed.shapes.plot(color='gray')\n",
    "transit_net.feed.shapes[transit_net.feed.trips.trip_id.isin(selected_trips)].plot(ax=all_routes, color=\"red\")"
   ]
  },
  {
   "cell_type": "markdown",
   "metadata": {},
   "source": [
    "## 3. Change Feature Attributes\n",
    "\n",
    "### Highway Feature Change"
   ]
  },
  {
   "cell_type": "code",
   "execution_count": 47,
   "metadata": {},
   "outputs": [
    {
     "data": {
      "text/html": [
       "<div style=\"width:100%;\"><div style=\"position:relative;width:100%;height:0;padding-bottom:60%;\"><iframe src=\"data:text/html;charset=utf-8;base64,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\" style=\"position:absolute;width:100%;height:100%;left:0;top:0;border:none !important;\" allowfullscreen webkitallowfullscreen mozallowfullscreen></iframe></div></div>"
      ],
      "text/plain": [
       "<folium.folium.Map at 0x116285208>"
      ]
     },
     "execution_count": 47,
     "metadata": {},
     "output_type": "execute_result"
    }
   ],
   "source": [
    "selected_highway = {\n",
    "    \"link\": [{\"name\": [\"I 35E\"]}],\n",
    "    \"A\": {\"osm_node_id\": \"961117623\"},  \n",
    "    \"B\": {\"osm_node_id\": \"2564047368\"}\n",
    "}\n",
    "selected_links   = net.select_roadway_features(selected_highway)\n",
    "\n",
    "A_id, B_id = net.orig_dest_nodes_foreign_key(selected_highway)\n",
    "selected_highway_key = (ProjectCard.build_link_selection_query(selected_highway,unique_model_link_identifiers=['model_link_id']), A_id, B_id)\n",
    "map_selection(net.selections[selected_highway_key ], A_id, B_id)"
   ]
  },
  {
   "cell_type": "code",
   "execution_count": 49,
   "metadata": {},
   "outputs": [
    {
     "data": {
      "text/plain": [
       "7539    3\n",
       "8104    3\n",
       "Name: lanes, dtype: int64"
      ]
     },
     "execution_count": 49,
     "metadata": {},
     "output_type": "execute_result"
    }
   ],
   "source": [
    "net.links_df.loc[selected_links]['lanes']"
   ]
  },
  {
   "cell_type": "code",
   "execution_count": 50,
   "metadata": {},
   "outputs": [],
   "source": [
    "change = {\n",
    "    'properties': [\n",
    "      {\n",
    "          'property': 'lanes',\n",
    "          'set': 2,\n",
    "      }\n",
    "    ]\n",
    "}"
   ]
  },
  {
   "cell_type": "code",
   "execution_count": 52,
   "metadata": {},
   "outputs": [
    {
     "data": {
      "text/plain": [
       "7539    2\n",
       "8104    2\n",
       "Name: lanes, dtype: int64"
      ]
     },
     "execution_count": 52,
     "metadata": {},
     "output_type": "execute_result"
    }
   ],
   "source": [
    "net.apply_roadway_feature_change(selected_links,change['properties'])\n",
    "net.links_df.loc[selected_links]['lanes']"
   ]
  },
  {
   "cell_type": "markdown",
   "metadata": {},
   "source": [
    "#### You can also increment from the existing value using the field `change`\n",
    "And optionally, you can call out what you think the existing value should be so that it fails if it isn't the case."
   ]
  },
  {
   "cell_type": "code",
   "execution_count": 53,
   "metadata": {},
   "outputs": [
    {
     "data": {
      "text/plain": [
       "7539    3\n",
       "8104    3\n",
       "Name: lanes, dtype: int64"
      ]
     },
     "execution_count": 53,
     "metadata": {},
     "output_type": "execute_result"
    }
   ],
   "source": [
    "change = {\n",
    "    'properties': [\n",
    "      {\n",
    "          'property': 'lanes',\n",
    "          'existing': 2,\n",
    "          'change': 1,\n",
    "      }\n",
    "    ]\n",
    "}\n",
    "\n",
    "net.apply_roadway_feature_change(selected_links,change['properties'])\n",
    "net.links_df.loc[selected_links]['lanes']"
   ]
  },
  {
   "cell_type": "markdown",
   "metadata": {},
   "source": [
    "### Transit Feature Change\n"
   ]
  },
  {
   "cell_type": "code",
   "execution_count": 55,
   "metadata": {},
   "outputs": [
    {
     "data": {
      "text/html": [
       "<div>\n",
       "<style scoped>\n",
       "    .dataframe tbody tr th:only-of-type {\n",
       "        vertical-align: middle;\n",
       "    }\n",
       "\n",
       "    .dataframe tbody tr th {\n",
       "        vertical-align: top;\n",
       "    }\n",
       "\n",
       "    .dataframe thead th {\n",
       "        text-align: right;\n",
       "    }\n",
       "</style>\n",
       "<table border=\"1\" class=\"dataframe\">\n",
       "  <thead>\n",
       "    <tr style=\"text-align: right;\">\n",
       "      <th></th>\n",
       "      <th>trip_id</th>\n",
       "      <th>headway_secs</th>\n",
       "      <th>start_time</th>\n",
       "      <th>end_time</th>\n",
       "    </tr>\n",
       "  </thead>\n",
       "  <tbody>\n",
       "    <tr>\n",
       "      <th>5</th>\n",
       "      <td>14941148-JUN19-MVS-BUS-Weekday-01</td>\n",
       "      <td>830</td>\n",
       "      <td>21600.0</td>\n",
       "      <td>32400.0</td>\n",
       "    </tr>\n",
       "    <tr>\n",
       "      <th>6</th>\n",
       "      <td>14941151-JUN19-MVS-BUS-Weekday-01</td>\n",
       "      <td>540</td>\n",
       "      <td>21600.0</td>\n",
       "      <td>32400.0</td>\n",
       "    </tr>\n",
       "    <tr>\n",
       "      <th>7</th>\n",
       "      <td>14941153-JUN19-MVS-BUS-Weekday-01</td>\n",
       "      <td>696</td>\n",
       "      <td>32400.0</td>\n",
       "      <td>54000.0</td>\n",
       "    </tr>\n",
       "    <tr>\n",
       "      <th>8</th>\n",
       "      <td>14941163-JUN19-MVS-BUS-Weekday-01</td>\n",
       "      <td>830</td>\n",
       "      <td>32400.0</td>\n",
       "      <td>54000.0</td>\n",
       "    </tr>\n",
       "  </tbody>\n",
       "</table>\n",
       "</div>"
      ],
      "text/plain": [
       "                             trip_id  headway_secs  start_time  end_time\n",
       "5  14941148-JUN19-MVS-BUS-Weekday-01           830     21600.0   32400.0\n",
       "6  14941151-JUN19-MVS-BUS-Weekday-01           540     21600.0   32400.0\n",
       "7  14941153-JUN19-MVS-BUS-Weekday-01           696     32400.0   54000.0\n",
       "8  14941163-JUN19-MVS-BUS-Weekday-01           830     32400.0   54000.0"
      ]
     },
     "execution_count": 55,
     "metadata": {},
     "output_type": "execute_result"
    }
   ],
   "source": [
    "transit_selection = {\"route_short_name\": \"3\"}\n",
    "change = {\n",
    "    'properties': [\n",
    "      {\n",
    "          'property': 'headway_secs',\n",
    "          'set': 600, # ten minute headways\n",
    "      }\n",
    "    ]\n",
    "}\n",
    "# show existing headways\n",
    "transit_net.feed.frequencies[\n",
    "    transit_net.feed.trips.trip_id.isin(\n",
    "        transit_net.select_transit_features(transit_selection)\n",
    "    )\n",
    "]"
   ]
  },
  {
   "cell_type": "code",
   "execution_count": 56,
   "metadata": {},
   "outputs": [
    {
     "data": {
      "text/html": [
       "<div>\n",
       "<style scoped>\n",
       "    .dataframe tbody tr th:only-of-type {\n",
       "        vertical-align: middle;\n",
       "    }\n",
       "\n",
       "    .dataframe tbody tr th {\n",
       "        vertical-align: top;\n",
       "    }\n",
       "\n",
       "    .dataframe thead th {\n",
       "        text-align: right;\n",
       "    }\n",
       "</style>\n",
       "<table border=\"1\" class=\"dataframe\">\n",
       "  <thead>\n",
       "    <tr style=\"text-align: right;\">\n",
       "      <th></th>\n",
       "      <th>trip_id</th>\n",
       "      <th>headway_secs</th>\n",
       "      <th>start_time</th>\n",
       "      <th>end_time</th>\n",
       "    </tr>\n",
       "  </thead>\n",
       "  <tbody>\n",
       "    <tr>\n",
       "      <th>5</th>\n",
       "      <td>14941148-JUN19-MVS-BUS-Weekday-01</td>\n",
       "      <td>600</td>\n",
       "      <td>21600.0</td>\n",
       "      <td>32400.0</td>\n",
       "    </tr>\n",
       "    <tr>\n",
       "      <th>6</th>\n",
       "      <td>14941151-JUN19-MVS-BUS-Weekday-01</td>\n",
       "      <td>600</td>\n",
       "      <td>21600.0</td>\n",
       "      <td>32400.0</td>\n",
       "    </tr>\n",
       "    <tr>\n",
       "      <th>7</th>\n",
       "      <td>14941153-JUN19-MVS-BUS-Weekday-01</td>\n",
       "      <td>600</td>\n",
       "      <td>32400.0</td>\n",
       "      <td>54000.0</td>\n",
       "    </tr>\n",
       "    <tr>\n",
       "      <th>8</th>\n",
       "      <td>14941163-JUN19-MVS-BUS-Weekday-01</td>\n",
       "      <td>600</td>\n",
       "      <td>32400.0</td>\n",
       "      <td>54000.0</td>\n",
       "    </tr>\n",
       "  </tbody>\n",
       "</table>\n",
       "</div>"
      ],
      "text/plain": [
       "                             trip_id  headway_secs  start_time  end_time\n",
       "5  14941148-JUN19-MVS-BUS-Weekday-01           600     21600.0   32400.0\n",
       "6  14941151-JUN19-MVS-BUS-Weekday-01           600     21600.0   32400.0\n",
       "7  14941153-JUN19-MVS-BUS-Weekday-01           600     32400.0   54000.0\n",
       "8  14941163-JUN19-MVS-BUS-Weekday-01           600     32400.0   54000.0"
      ]
     },
     "execution_count": 56,
     "metadata": {},
     "output_type": "execute_result"
    }
   ],
   "source": [
    "transit_net.apply_transit_feature_change(\n",
    "            transit_net.select_transit_features(transit_selection), change['properties']\n",
    "        )\n",
    "\n",
    "# show revised headways\n",
    "transit_net.feed.frequencies[\n",
    "    transit_net.feed.trips.trip_id.isin(\n",
    "        transit_net.select_transit_features(simple_transit_selection)\n",
    "    )\n",
    "]"
   ]
  },
  {
   "cell_type": "markdown",
   "metadata": {},
   "source": [
    "## 4 - Write out Networks"
   ]
  },
  {
   "cell_type": "code",
   "execution_count": 55,
   "metadata": {},
   "outputs": [],
   "source": [
    "OUTPATH = \"/Users/Elizabeth/Downloads\""
   ]
  },
  {
   "cell_type": "code",
   "execution_count": 56,
   "metadata": {},
   "outputs": [],
   "source": [
    "net.write(filename=\"my_net\", path=OUTPATH)"
   ]
  },
  {
   "cell_type": "code",
   "execution_count": null,
   "metadata": {},
   "outputs": [],
   "source": [
    "transit_net.write(outpath = OUTPATH)"
   ]
  },
  {
   "cell_type": "markdown",
   "metadata": {},
   "source": [
    "## 5 - Do the whole process with project cards\n",
    "\n",
    "#### Roadway"
   ]
  },
  {
   "cell_type": "code",
   "execution_count": 57,
   "metadata": {},
   "outputs": [],
   "source": [
    "roadway_project_card_file = os.path.join(\n",
    "        STPAUL_DIR, \"project_cards\", '3_multiple_roadway_attribute_change.yml'\n",
    "    )\n",
    "    \n",
    "roadway_project_card = ProjectCard.read(roadway_project_card_file)\n",
    "\n",
    "net.apply_roadway_feature_change(\n",
    "    net.select_roadway_features(roadway_project_card.facility),\n",
    "    roadway_project_card.properties\n",
    ")\n"
   ]
  },
  {
   "cell_type": "markdown",
   "metadata": {},
   "source": [
    "#### Transit"
   ]
  },
  {
   "cell_type": "code",
   "execution_count": 58,
   "metadata": {},
   "outputs": [],
   "source": [
    "transit_project_card_file = os.path.join(\n",
    "    STPAUL_DIR, \"project_cards\", '8_simple_transit_attribute_change.yml'\n",
    ")\n",
    "\n",
    "transit_project_card = ProjectCard.read(transit_project_card_file)\n",
    "transit_net.apply_transit_feature_change(\n",
    "    transit_net.select_transit_features(transit_project_card.facility), \n",
    "    transit_project_card.properties\n",
    ")"
   ]
  },
  {
   "cell_type": "markdown",
   "metadata": {},
   "source": [
    "# Scenarios\n",
    "\n",
    "Can create a scenario from a base scenario which specifies any base networks if applicable.\n",
    "You can add projects and apply them all.\n",
    "You have access to the projects that have been applied."
   ]
  },
  {
   "cell_type": "code",
   "execution_count": 59,
   "metadata": {},
   "outputs": [],
   "source": [
    "from network_wrangler import Scenario\n",
    "scen = Scenario.create_scenario(\n",
    "    base_scenario={\"road_net\":net, \"transit_net\":transit_net}, \n",
    "    project_cards_list= [roadway_project_card]\n",
    "    )\n",
    "\n",
    "scen.apply_all_projects()"
   ]
  },
  {
   "cell_type": "code",
   "execution_count": 60,
   "metadata": {},
   "outputs": [
    {
     "data": {
      "text/plain": [
       "['6th Street Transitway']"
      ]
     },
     "execution_count": 60,
     "metadata": {},
     "output_type": "execute_result"
    }
   ],
   "source": [
    "scen.applied_projects"
   ]
  },
  {
   "cell_type": "code",
   "execution_count": null,
   "metadata": {},
   "outputs": [],
   "source": []
  }
 ],
 "metadata": {
  "kernelspec": {
   "display_name": "Python 3",
   "language": "python",
   "name": "python3"
  },
  "language_info": {
   "codemirror_mode": {
    "name": "ipython",
    "version": 3
   },
   "file_extension": ".py",
   "mimetype": "text/x-python",
   "name": "python",
   "nbconvert_exporter": "python",
   "pygments_lexer": "ipython3",
   "version": "3.7.3"
  }
 },
 "nbformat": 4,
 "nbformat_minor": 2
}
