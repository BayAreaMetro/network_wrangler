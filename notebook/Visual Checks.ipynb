{
 "cells": [
  {
   "cell_type": "markdown",
   "metadata": {},
   "source": [
    "## Scenario Visualization\n",
    "The purpose of this notebook is to visualize the projects in a scenario that you constructed."
   ]
  },
  {
   "cell_type": "code",
   "execution_count": 1,
   "metadata": {},
   "outputs": [],
   "source": [
    "import os\n",
    "import sys\n",
    "import pandas as pd\n",
    "import network_wrangler as wr\n",
    "\n",
    "from ipywidgets import Output, HTML, HBox, VBox, Layout, AppLayout\n",
    "from IPython.display import display,IFrame\n",
    "\n",
    "%config IPCompleter.greedy=True\n",
    "import warnings\n",
    "warnings.filterwarnings('ignore')\n",
    "pd.set_option('display.max_columns', None)\n",
    "pd.set_option('display.max_colwidth', 1000)\n",
    "\n",
    "import logging\n",
    "logger = logging.getLogger(\"WranglerLogger\")\n",
    "logger.handlers[0].stream = sys.stdout\n",
    "# if you don't want to see so much detail, set to logging.INFO or DEBUG\n",
    "logger.setLevel(logging.INFO)"
   ]
  },
  {
   "cell_type": "code",
   "execution_count": 2,
   "metadata": {},
   "outputs": [],
   "source": [
    "%load_ext autoreload\n",
    "%autoreload 2"
   ]
  },
  {
   "cell_type": "code",
   "execution_count": 3,
   "metadata": {},
   "outputs": [
    {
     "name": "stdout",
     "output_type": "stream",
     "text": [
      "Once deleted, variables cannot be recovered. Proceed (y/[n])? n\n",
      "Nothing done.\n"
     ]
    }
   ],
   "source": [
    "#if you need to reset variables in the notebook\n",
    "%reset"
   ]
  },
  {
   "cell_type": "markdown",
   "metadata": {},
   "source": [
    "### Define Base Files, Networks, and Scenario"
   ]
  },
  {
   "cell_type": "code",
   "execution_count": 3,
   "metadata": {},
   "outputs": [],
   "source": [
    "STPAUL_DIR = os.path.join(os.getcwd(),'../','examples','stpaul')\n",
    "STPAUL_SHAPE_FILE = os.path.join(STPAUL_DIR,\"shape.geojson\")\n",
    "STPAUL_LINK_FILE = os.path.join(STPAUL_DIR,\"link.json\")\n",
    "STPAUL_NODE_FILE = os.path.join(STPAUL_DIR,\"node.geojson\")"
   ]
  },
  {
   "cell_type": "code",
   "execution_count": 4,
   "metadata": {},
   "outputs": [
    {
     "name": "stdout",
     "output_type": "stream",
     "text": [
      "2020-11-13 16:20:57, INFO: Reading RoadwayNetwork\n",
      "2020-11-13 16:20:57, INFO: Reading RoadwayNetwork\n",
      "2020-11-13 16:21:03, INFO: Read 66253 links from /Users/elizabeth/Documents/urbanlabs/MetCouncil/working/network_wrangler/notebook/../examples/stpaul/link.json\n",
      "2020-11-13 16:21:03, INFO: Read 66253 links from /Users/elizabeth/Documents/urbanlabs/MetCouncil/working/network_wrangler/notebook/../examples/stpaul/link.json\n",
      "2020-11-13 16:21:03, INFO: Read 17159 nodes from /Users/elizabeth/Documents/urbanlabs/MetCouncil/working/network_wrangler/notebook/../examples/stpaul/node.geojson\n",
      "2020-11-13 16:21:03, INFO: Read 17159 nodes from /Users/elizabeth/Documents/urbanlabs/MetCouncil/working/network_wrangler/notebook/../examples/stpaul/node.geojson\n",
      "2020-11-13 16:21:03, INFO: Read 66253 shapes from /Users/elizabeth/Documents/urbanlabs/MetCouncil/working/network_wrangler/notebook/../examples/stpaul/shape.geojson\n",
      "2020-11-13 16:21:03, INFO: Read 66253 shapes from /Users/elizabeth/Documents/urbanlabs/MetCouncil/working/network_wrangler/notebook/../examples/stpaul/shape.geojson\n"
     ]
    }
   ],
   "source": [
    "road_net = wr.RoadwayNetwork.read(\n",
    "    link_file= STPAUL_LINK_FILE, \n",
    "    node_file=STPAUL_NODE_FILE, \n",
    "    shape_file=STPAUL_SHAPE_FILE, \n",
    "    fast=True,\n",
    "    shape_foreign_key ='shape_id',\n",
    ")"
   ]
  },
  {
   "cell_type": "code",
   "execution_count": 5,
   "metadata": {},
   "outputs": [
    {
     "name": "stdout",
     "output_type": "stream",
     "text": [
      "2020-11-13 16:21:17, INFO: Read in transit feed from: /Users/elizabeth/Documents/urbanlabs/MetCouncil/working/network_wrangler/notebook/../examples/stpaul\n",
      "2020-11-13 16:21:17, INFO: Read in transit feed from: /Users/elizabeth/Documents/urbanlabs/MetCouncil/working/network_wrangler/notebook/../examples/stpaul\n",
      "2020-11-13 16:21:17, INFO: Removing calendar.txt from transit network config because file not found\n",
      "2020-11-13 16:21:17, INFO: Removing calendar.txt from transit network config because file not found\n",
      "2020-11-13 16:21:18, INFO: Removing calendar_dates.txt from transit network config because file not found\n",
      "2020-11-13 16:21:18, INFO: Removing calendar_dates.txt from transit network config because file not found\n",
      "2020-11-13 16:21:18, INFO: Removing fare_attributes.txt from transit network config because file not found\n",
      "2020-11-13 16:21:18, INFO: Removing fare_attributes.txt from transit network config because file not found\n",
      "2020-11-13 16:21:18, INFO: Removing fare_rules.txt from transit network config because file not found\n",
      "2020-11-13 16:21:18, INFO: Removing fare_rules.txt from transit network config because file not found\n",
      "2020-11-13 16:21:18, INFO: Removing transfers.txt from transit network config because file not found\n",
      "2020-11-13 16:21:18, INFO: Removing transfers.txt from transit network config because file not found\n",
      "2020-11-13 16:21:18, INFO: Removing feed_info.txt from transit network config because file not found\n",
      "2020-11-13 16:21:18, INFO: Removing feed_info.txt from transit network config because file not found\n"
     ]
    }
   ],
   "source": [
    "transit_net = wr.TransitNetwork.read(STPAUL_DIR)"
   ]
  },
  {
   "cell_type": "code",
   "execution_count": 6,
   "metadata": {},
   "outputs": [],
   "source": [
    "base_scenario = {\n",
    "    \"road_net\": road_net,\n",
    "    \"transit_net\": transit_net,\n",
    "}"
   ]
  },
  {
   "cell_type": "markdown",
   "metadata": {},
   "source": [
    "### Build a Scenario by Specifying Specific Project Cards"
   ]
  },
  {
   "cell_type": "code",
   "execution_count": 7,
   "metadata": {},
   "outputs": [],
   "source": [
    "BUILD_CARD_FILENAMES = [\n",
    "    '3_multiple_roadway_attribute_change.yml',\n",
    "    'multiple_changes.yml',\n",
    "    '4_simple_managed_lane.yml',\n",
    "]\n",
    "\n",
    "project_cards_list = [\n",
    "    wr.ProjectCard.read(os.path.join(STPAUL_DIR, \"project_cards\", filename), validate=False)\n",
    "    for filename in BUILD_CARD_FILENAMES\n",
    "]"
   ]
  },
  {
   "cell_type": "code",
   "execution_count": 10,
   "metadata": {},
   "outputs": [
    {
     "name": "stdout",
     "output_type": "stream",
     "text": [
      "2020-11-13 16:24:46, INFO: Creating Scenario\n",
      "2020-11-13 16:24:46, INFO: Creating Scenario\n",
      "2020-11-13 16:24:46, INFO: Applying test managed lane project\n",
      "2020-11-13 16:24:46, INFO: Applying test managed lane project\n",
      "2020-11-13 16:24:46, INFO: Applying Project to Roadway Network: test managed lane project\n",
      "2020-11-13 16:24:46, INFO: Applying Project to Roadway Network: test managed lane project\n",
      "2020-11-13 16:24:46, INFO: Applying road diet on one way couplet 5th and 6th\n",
      "2020-11-13 16:24:46, INFO: Applying road diet on one way couplet 5th and 6th\n",
      "2020-11-13 16:24:46, INFO: Applying road diet on one way couplet 5th and 6th\n",
      "2020-11-13 16:24:46, INFO: Applying road diet on one way couplet 5th and 6th\n",
      "2020-11-13 16:24:46, INFO: Applying Project to Roadway Network: road diet on one way couplet 5th and 6th\n",
      "2020-11-13 16:24:46, INFO: Applying Project to Roadway Network: road diet on one way couplet 5th and 6th\n",
      "2020-11-13 16:24:47, INFO: Applying road diet on one way couplet 5th and 6th\n",
      "2020-11-13 16:24:47, INFO: Applying road diet on one way couplet 5th and 6th\n",
      "2020-11-13 16:24:47, INFO: Applying Project to Roadway Network: road diet on one way couplet 5th and 6th\n",
      "2020-11-13 16:24:47, INFO: Applying Project to Roadway Network: road diet on one way couplet 5th and 6th\n",
      "2020-11-13 16:24:47, INFO: Applying 6th Street Transitway\n",
      "2020-11-13 16:24:47, INFO: Applying 6th Street Transitway\n",
      "2020-11-13 16:24:47, INFO: Applying Project to Roadway Network: 6th Street Transitway\n",
      "2020-11-13 16:24:47, INFO: Applying Project to Roadway Network: 6th Street Transitway\n"
     ]
    }
   ],
   "source": [
    "my_scenario = wr.Scenario.create_scenario(\n",
    "    base_scenario=base_scenario, \n",
    "    project_cards_list=project_cards_list\n",
    ")\n",
    "my_scenario.apply_all_projects()"
   ]
  },
  {
   "cell_type": "code",
   "execution_count": 11,
   "metadata": {},
   "outputs": [
    {
     "data": {
      "text/plain": [
       "['test managed lane project',\n",
       " 'road diet on one way couplet 5th and 6th',\n",
       " '6th Street Transitway']"
      ]
     },
     "execution_count": 11,
     "metadata": {},
     "output_type": "execute_result"
    }
   ],
   "source": [
    "my_scenario.applied_projects"
   ]
  },
  {
   "cell_type": "markdown",
   "metadata": {},
   "source": [
    "## Project Summaries\n",
    "\n",
    "The method `Scenario.applied_project_card_summary()` "
   ]
  },
  {
   "cell_type": "code",
   "execution_count": 12,
   "metadata": {},
   "outputs": [
    {
     "name": "stdout",
     "output_type": "stream",
     "text": [
      "2020-11-13 16:24:53, INFO: Summarizing Scenario\n",
      "2020-11-13 16:24:53, INFO: Summarizing Scenario\n"
     ]
    }
   ],
   "source": [
    "scenario_summary = my_scenario.scenario_summary()"
   ]
  },
  {
   "cell_type": "code",
   "execution_count": 13,
   "metadata": {},
   "outputs": [
    {
     "ename": "NameError",
     "evalue": "name 'out' is not defined",
     "output_type": "error",
     "traceback": [
      "\u001b[0;31m---------------------------------------------------------------------------\u001b[0m",
      "\u001b[0;31mNameError\u001b[0m                                 Traceback (most recent call last)",
      "\u001b[0;32m<ipython-input-13-90b42048bda3>\u001b[0m in \u001b[0;36m<module>\u001b[0;34m\u001b[0m\n\u001b[0;32m----> 1\u001b[0;31m \u001b[0;32mwith\u001b[0m \u001b[0mout\u001b[0m\u001b[0;34m:\u001b[0m\u001b[0;34m\u001b[0m\u001b[0;34m\u001b[0m\u001b[0m\n\u001b[0m\u001b[1;32m      2\u001b[0m     \u001b[0mdisplay\u001b[0m\u001b[0;34m(\u001b[0m\u001b[0mHTML\u001b[0m\u001b[0;34m(\u001b[0m\u001b[0mscenario_summary\u001b[0m\u001b[0;34m)\u001b[0m\u001b[0;34m)\u001b[0m\u001b[0;34m\u001b[0m\u001b[0;34m\u001b[0m\u001b[0m\n",
      "\u001b[0;31mNameError\u001b[0m: name 'out' is not defined"
     ]
    }
   ],
   "source": [
    "with out:\n",
    "    display(HTML(scenario_summary))\n"
   ]
  },
  {
   "cell_type": "code",
   "execution_count": 14,
   "metadata": {},
   "outputs": [],
   "source": [
    "out = Output(layout={'height':'auto','width':'98%','border': '4px solid grey','overflow_y': 'visible', \"right-margin\": '15px',\"padding\": '5px', 'object_fit': 'scale-down'})\n",
    "out.clear_output(wait=True)\n",
    "\n",
    "with out:\n",
    "    for pc in my_scenario.project_cards:\n",
    "        s = my_scenario.applied_project_card_summary(pc.__dict__)\n",
    "        display(HTML(\"<h2>PROJECT CARD: \"+pc.project+\"</h2><hr>\"))\n",
    "        display(HTML(\"<var>Source File:</var><code>\"+pc.file+\"</code>\"))\n",
    "        display(HTML(\"<b>Changes in project: \"+str(s['total_parts'])+\"</b>\"))\n",
    "        for p in range(s['total_parts']):\n",
    "            part = \"Part \"+str(p+1)\n",
    "            part_summary = s[part]\n",
    "            display(HTML(\"<h3>\"+part_summary['project']+\"</h3></br><var>Change Category:</var>\"+part_summary['category']))\n",
    "            display(part_summary)\n",
    "            display(part_summary['map'])"
   ]
  },
  {
   "cell_type": "code",
   "execution_count": 15,
   "metadata": {},
   "outputs": [
    {
     "data": {
      "application/vnd.jupyter.widget-view+json": {
       "model_id": "f4351ef4f822423291f3150255fc65ad",
       "version_major": 2,
       "version_minor": 0
      },
      "text/plain": [
       "Output(layout=Layout(border='4px solid grey', height='auto', object_fit='scale-down', overflow_y='visible', pa…"
      ]
     },
     "metadata": {},
     "output_type": "display_data"
    }
   ],
   "source": [
    "out"
   ]
  }
 ],
 "metadata": {
  "kernelspec": {
   "display_name": "Python 3",
   "language": "python",
   "name": "python3"
  },
  "language_info": {
   "codemirror_mode": {
    "name": "ipython",
    "version": 3
   },
   "file_extension": ".py",
   "mimetype": "text/x-python",
   "name": "python",
   "nbconvert_exporter": "python",
   "pygments_lexer": "ipython3",
   "version": "3.7.6"
  }
 },
 "nbformat": 4,
 "nbformat_minor": 2
}
