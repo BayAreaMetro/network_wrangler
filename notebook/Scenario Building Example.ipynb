{
 "cells": [
  {
   "attachments": {},
   "cell_type": "markdown",
   "metadata": {},
   "source": [
    "# Scenario Building\n",
    "The purpose of this notebook is to understand the various methods that Network Wrangler can use to define and build scenarios.\n",
    "\n",
    "The basic steps are:\n",
    "\n",
    "1. Define base scenario (networks, projects)\n",
    "2. Specify projects to add\n",
    "3. Build the scenario\n",
    "\n",
    "This notebook shows how this process can be used to build scenario upon scenario. "
   ]
  },
  {
   "cell_type": "code",
   "execution_count": 21,
   "metadata": {},
   "outputs": [],
   "source": [
    "import warnings\n",
    "from pathlib import Path\n",
    "import pandas as pd\n",
    "\n",
    "%config IPCompleter.greedy=True\n",
    "pd.set_option(\"display.max_columns\", None)\n",
    "warnings.filterwarnings(\"ignore\")"
   ]
  },
  {
   "attachments": {},
   "cell_type": "markdown",
   "metadata": {},
   "source": [
    "## Define Base Scenario\n",
    "\n",
    "A base scenario is at a minimum a `RoadwayNetwork` and `TransitNetwork`, defined with a dictionary."
   ]
  },
  {
   "cell_type": "code",
   "execution_count": 26,
   "metadata": {},
   "outputs": [
    {
     "name": "stderr",
     "output_type": "stream",
     "text": [
      "Skipping field outboundReferenceIds: unsupported OGR type: 5\n",
      "Skipping field inboundReferenceIds: unsupported OGR type: 5\n"
     ]
    }
   ],
   "source": [
    "STPAUL_DIR = Path.cwd().parent / \"examples\" / \"stpaul\"\n",
    "from network_wrangler import load_roadway_from_dir, load_transit\n",
    "road_net = load_roadway_from_dir(STPAUL_DIR)\n",
    "transit_net = load_transit(STPAUL_DIR)\n",
    "base_scenario = {\n",
    "    \"road_net\": road_net,\n",
    "    \"transit_net\": transit_net,\n",
    "}"
   ]
  },
  {
   "attachments": {},
   "cell_type": "markdown",
   "metadata": {},
   "source": [
    "## Define \"Future No Build\" Scenario\n",
    "\n",
    "In this case, we will create a future no-build scenario based on all projects in a directory with a certain filename pattern using the `glob_search` feature, but this could also be baed on a tag or whatever."
   ]
  },
  {
   "cell_type": "code",
   "execution_count": 27,
   "metadata": {},
   "outputs": [
    {
     "name": "stderr",
     "output_type": "stream",
     "text": [
      "Base_scenario doesn't contain ['road_net', 'transit_net', 'applied_projects', 'conflicts']\n",
      "Creating a deep copy of db object.            This will NOT update any referneces (e.g. from TransitNetwork)\n"
     ]
    }
   ],
   "source": [
    "from network_wrangler import create_scenario\n",
    "my_scenario_nobuild = create_scenario(\n",
    "    base_scenario=base_scenario,\n",
    "    project_card_filepath=STPAUL_DIR / \"project_cards\",\n",
    "    filter_tags=[\"baseline\"]\n",
    ")"
   ]
  },
  {
   "attachments": {},
   "cell_type": "markdown",
   "metadata": {},
   "source": [
    "**Check that the correct projects got added**\n",
    "\n",
    "- These projects haven't been applied (or \"built\") yet, they are just specified at this point."
   ]
  },
  {
   "cell_type": "code",
   "execution_count": 28,
   "metadata": {},
   "outputs": [
    {
     "data": {
      "text/plain": [
       "['widen minnehaha pkwy']"
      ]
     },
     "execution_count": 28,
     "metadata": {},
     "output_type": "execute_result"
    }
   ],
   "source": [
    "my_scenario_nobuild.queued_projects"
   ]
  },
  {
   "attachments": {},
   "cell_type": "markdown",
   "metadata": {},
   "source": [
    "## Build the \"Future No Build\" Scenario\n",
    " - This is where you are actually \"building\" the projects\n",
    " - You can check to see *all* the built projects using the `applied_projects` attribute"
   ]
  },
  {
   "cell_type": "code",
   "execution_count": 29,
   "metadata": {
    "scrolled": true
   },
   "outputs": [
    {
     "ename": "AttributeError",
     "evalue": "'NoneType' object has no attribute 'explicit_id_selection_dict'",
     "output_type": "error",
     "traceback": [
      "\u001b[0;31m---------------------------------------------------------------------------\u001b[0m",
      "\u001b[0;31mAttributeError\u001b[0m                            Traceback (most recent call last)",
      "Cell \u001b[0;32mIn[29], line 1\u001b[0m\n\u001b[0;32m----> 1\u001b[0m \u001b[43mmy_scenario_nobuild\u001b[49m\u001b[38;5;241;43m.\u001b[39;49m\u001b[43mapply_all_projects\u001b[49m\u001b[43m(\u001b[49m\u001b[43m)\u001b[49m\n",
      "File \u001b[0;32m~/Documents/urbanlabs/MetCouncil/NetworkWrangler/working/network_wrangler/network_wrangler/scenario.py:604\u001b[0m, in \u001b[0;36mScenario.apply_all_projects\u001b[0;34m(self)\u001b[0m\n\u001b[1;32m    602\u001b[0m \u001b[38;5;66;03m# Use hidden variable.\u001b[39;00m\n\u001b[1;32m    603\u001b[0m \u001b[38;5;28;01mwhile\u001b[39;00m \u001b[38;5;28mself\u001b[39m\u001b[38;5;241m.\u001b[39m_queued_projects:\n\u001b[0;32m--> 604\u001b[0m     \u001b[38;5;28;43mself\u001b[39;49m\u001b[38;5;241;43m.\u001b[39;49m\u001b[43m_apply_project\u001b[49m\u001b[43m(\u001b[49m\u001b[38;5;28;43mself\u001b[39;49m\u001b[38;5;241;43m.\u001b[39;49m\u001b[43m_queued_projects\u001b[49m\u001b[38;5;241;43m.\u001b[39;49m\u001b[43mpopleft\u001b[49m\u001b[43m(\u001b[49m\u001b[43m)\u001b[49m\u001b[43m)\u001b[49m\n\u001b[1;32m    606\u001b[0m \u001b[38;5;66;03m# set this so it will trigger re-queuing any more projects.\u001b[39;00m\n\u001b[1;32m    607\u001b[0m \u001b[38;5;28mself\u001b[39m\u001b[38;5;241m.\u001b[39m_queued_projects \u001b[38;5;241m=\u001b[39m \u001b[38;5;28;01mNone\u001b[39;00m\n",
      "File \u001b[0;32m~/Documents/urbanlabs/MetCouncil/NetworkWrangler/working/network_wrangler/network_wrangler/scenario.py:656\u001b[0m, in \u001b[0;36mScenario._apply_project\u001b[0;34m(self, project_name)\u001b[0m\n\u001b[1;32m    654\u001b[0m     \u001b[38;5;28;01mfor\u001b[39;00m sp \u001b[38;5;129;01min\u001b[39;00m p\u001b[38;5;241m.\u001b[39m_sub_projects:\n\u001b[1;32m    655\u001b[0m         WranglerLogger\u001b[38;5;241m.\u001b[39mdebug(\u001b[38;5;124mf\u001b[39m\u001b[38;5;124m\"\u001b[39m\u001b[38;5;124m- applying subproject: \u001b[39m\u001b[38;5;132;01m{\u001b[39;00msp\u001b[38;5;241m.\u001b[39mchange_type\u001b[38;5;132;01m}\u001b[39;00m\u001b[38;5;124m\"\u001b[39m)\n\u001b[0;32m--> 656\u001b[0m         \u001b[38;5;28;43mself\u001b[39;49m\u001b[38;5;241;43m.\u001b[39;49m\u001b[43m_apply_change\u001b[49m\u001b[43m(\u001b[49m\u001b[43msp\u001b[49m\u001b[43m)\u001b[49m\n\u001b[1;32m    658\u001b[0m \u001b[38;5;28;01melse\u001b[39;00m:\n\u001b[1;32m    659\u001b[0m     \u001b[38;5;28mself\u001b[39m\u001b[38;5;241m.\u001b[39m_apply_change(p)\n",
      "File \u001b[0;32m~/Documents/urbanlabs/MetCouncil/NetworkWrangler/working/network_wrangler/network_wrangler/scenario.py:626\u001b[0m, in \u001b[0;36mScenario._apply_change\u001b[0;34m(self, change)\u001b[0m\n\u001b[1;32m    624\u001b[0m         \u001b[38;5;28mself\u001b[39m\u001b[38;5;241m.\u001b[39mroad_net\u001b[38;5;241m.\u001b[39mapply(change, transit_net\u001b[38;5;241m=\u001b[39m\u001b[38;5;28mself\u001b[39m\u001b[38;5;241m.\u001b[39mtransit_net)\n\u001b[1;32m    625\u001b[0m     \u001b[38;5;28;01melse\u001b[39;00m:\n\u001b[0;32m--> 626\u001b[0m         \u001b[38;5;28;43mself\u001b[39;49m\u001b[38;5;241;43m.\u001b[39;49m\u001b[43mroad_net\u001b[49m\u001b[38;5;241;43m.\u001b[39;49m\u001b[43mapply\u001b[49m\u001b[43m(\u001b[49m\u001b[43mchange\u001b[49m\u001b[43m)\u001b[49m\n\u001b[1;32m    627\u001b[0m \u001b[38;5;28;01mif\u001b[39;00m change\u001b[38;5;241m.\u001b[39mchange_type \u001b[38;5;129;01min\u001b[39;00m TRANSIT_CARD_TYPES:\n\u001b[1;32m    628\u001b[0m     \u001b[38;5;28;01mif\u001b[39;00m \u001b[38;5;129;01mnot\u001b[39;00m \u001b[38;5;28mself\u001b[39m\u001b[38;5;241m.\u001b[39mtransit_net:\n",
      "File \u001b[0;32m~/Documents/urbanlabs/MetCouncil/NetworkWrangler/working/network_wrangler/network_wrangler/roadway/network.py:371\u001b[0m, in \u001b[0;36mRoadwayNetwork.apply\u001b[0;34m(self, project_card, transit_net, **kwargs)\u001b[0m\n\u001b[1;32m    369\u001b[0m         \u001b[38;5;28mself\u001b[39m\u001b[38;5;241m.\u001b[39m_apply_change(sp, transit_net\u001b[38;5;241m=\u001b[39mtransit_net, \u001b[38;5;241m*\u001b[39m\u001b[38;5;241m*\u001b[39mkwargs)\n\u001b[1;32m    370\u001b[0m     \u001b[38;5;28;01mreturn\u001b[39;00m \u001b[38;5;28mself\u001b[39m\n\u001b[0;32m--> 371\u001b[0m \u001b[38;5;28;01mreturn\u001b[39;00m \u001b[38;5;28;43mself\u001b[39;49m\u001b[38;5;241;43m.\u001b[39;49m\u001b[43m_apply_change\u001b[49m\u001b[43m(\u001b[49m\u001b[43mproject_card\u001b[49m\u001b[43m,\u001b[49m\u001b[43m \u001b[49m\u001b[43mtransit_net\u001b[49m\u001b[38;5;241;43m=\u001b[39;49m\u001b[43mtransit_net\u001b[49m\u001b[43m,\u001b[49m\u001b[43m \u001b[49m\u001b[38;5;241;43m*\u001b[39;49m\u001b[38;5;241;43m*\u001b[39;49m\u001b[43mkwargs\u001b[49m\u001b[43m)\u001b[49m\n",
      "File \u001b[0;32m~/Documents/urbanlabs/MetCouncil/NetworkWrangler/working/network_wrangler/network_wrangler/roadway/network.py:383\u001b[0m, in \u001b[0;36mRoadwayNetwork._apply_change\u001b[0;34m(self, change, transit_net)\u001b[0m\n\u001b[1;32m    380\u001b[0m     WranglerLogger\u001b[38;5;241m.\u001b[39minfo(\u001b[38;5;124mf\u001b[39m\u001b[38;5;124m\"\u001b[39m\u001b[38;5;124mApplying Project to Roadway Network: \u001b[39m\u001b[38;5;132;01m{\u001b[39;00mchange\u001b[38;5;241m.\u001b[39mproject\u001b[38;5;132;01m}\u001b[39;00m\u001b[38;5;124m\"\u001b[39m)\n\u001b[1;32m    382\u001b[0m \u001b[38;5;28;01mif\u001b[39;00m change\u001b[38;5;241m.\u001b[39mchange_type \u001b[38;5;241m==\u001b[39m \u001b[38;5;124m\"\u001b[39m\u001b[38;5;124mroadway_property_change\u001b[39m\u001b[38;5;124m\"\u001b[39m:\n\u001b[0;32m--> 383\u001b[0m     \u001b[38;5;28;01mreturn\u001b[39;00m \u001b[43mapply_roadway_property_change\u001b[49m\u001b[43m(\u001b[49m\n\u001b[1;32m    384\u001b[0m \u001b[43m        \u001b[49m\u001b[38;5;28;43mself\u001b[39;49m\u001b[43m,\u001b[49m\n\u001b[1;32m    385\u001b[0m \u001b[43m        \u001b[49m\u001b[38;5;28;43mself\u001b[39;49m\u001b[38;5;241;43m.\u001b[39;49m\u001b[43mget_selection\u001b[49m\u001b[43m(\u001b[49m\u001b[43mchange\u001b[49m\u001b[38;5;241;43m.\u001b[39;49m\u001b[43mfacility\u001b[49m\u001b[43m)\u001b[49m\u001b[43m,\u001b[49m\n\u001b[1;32m    386\u001b[0m \u001b[43m        \u001b[49m\u001b[43mchange\u001b[49m\u001b[38;5;241;43m.\u001b[39;49m\u001b[43mroadway_property_change\u001b[49m\u001b[43m[\u001b[49m\u001b[38;5;124;43m\"\u001b[39;49m\u001b[38;5;124;43mproperty_changes\u001b[39;49m\u001b[38;5;124;43m\"\u001b[39;49m\u001b[43m]\u001b[49m\u001b[43m,\u001b[49m\n\u001b[1;32m    387\u001b[0m \u001b[43m        \u001b[49m\u001b[43mproject_name\u001b[49m\u001b[38;5;241;43m=\u001b[39;49m\u001b[43mchange\u001b[49m\u001b[38;5;241;43m.\u001b[39;49m\u001b[43mproject\u001b[49m\u001b[43m,\u001b[49m\n\u001b[1;32m    388\u001b[0m \u001b[43m    \u001b[49m\u001b[43m)\u001b[49m\n\u001b[1;32m    390\u001b[0m \u001b[38;5;28;01mif\u001b[39;00m change\u001b[38;5;241m.\u001b[39mchange_type \u001b[38;5;241m==\u001b[39m \u001b[38;5;124m\"\u001b[39m\u001b[38;5;124mroadway_addition\u001b[39m\u001b[38;5;124m\"\u001b[39m:\n\u001b[1;32m    391\u001b[0m     \u001b[38;5;28;01mreturn\u001b[39;00m apply_new_roadway(\n\u001b[1;32m    392\u001b[0m         \u001b[38;5;28mself\u001b[39m,\n\u001b[1;32m    393\u001b[0m         change\u001b[38;5;241m.\u001b[39mroadway_addition,\n\u001b[1;32m    394\u001b[0m         project_name\u001b[38;5;241m=\u001b[39mchange\u001b[38;5;241m.\u001b[39mproject,\n\u001b[1;32m    395\u001b[0m     )\n",
      "File \u001b[0;32m~/Documents/urbanlabs/MetCouncil/NetworkWrangler/working/network_wrangler/network_wrangler/roadway/projects/edit_property.py:78\u001b[0m, in \u001b[0;36mapply_roadway_property_change\u001b[0;34m(roadway_net, selection, property_changes, project_name)\u001b[0m\n\u001b[1;32m     73\u001b[0m WranglerLogger\u001b[38;5;241m.\u001b[39mdebug(\u001b[38;5;124m\"\u001b[39m\u001b[38;5;124mApplying roadway property change project.\u001b[39m\u001b[38;5;124m\"\u001b[39m)\n\u001b[1;32m     75\u001b[0m \u001b[38;5;28;01mif\u001b[39;00m \u001b[38;5;28misinstance\u001b[39m(selection, RoadwayLinkSelection):\n\u001b[1;32m     76\u001b[0m     roadway_net\u001b[38;5;241m.\u001b[39mlinks_df \u001b[38;5;241m=\u001b[39m edit_link_properties(\n\u001b[1;32m     77\u001b[0m         roadway_net\u001b[38;5;241m.\u001b[39mlinks_df,\n\u001b[0;32m---> 78\u001b[0m         \u001b[43mselection\u001b[49m\u001b[38;5;241;43m.\u001b[39;49m\u001b[43mselected_links\u001b[49m,\n\u001b[1;32m     79\u001b[0m         property_changes,\n\u001b[1;32m     80\u001b[0m         project_name\u001b[38;5;241m=\u001b[39mproject_name,\n\u001b[1;32m     81\u001b[0m     )\n\u001b[1;32m     83\u001b[0m \u001b[38;5;28;01melif\u001b[39;00m \u001b[38;5;28misinstance\u001b[39m(selection, RoadwayNodeSelection):\n\u001b[1;32m     84\u001b[0m     non_geo_changes \u001b[38;5;241m=\u001b[39m {\n\u001b[1;32m     85\u001b[0m         k: v \u001b[38;5;28;01mfor\u001b[39;00m k, v \u001b[38;5;129;01min\u001b[39;00m property_changes\u001b[38;5;241m.\u001b[39mitems() \u001b[38;5;28;01mif\u001b[39;00m k \u001b[38;5;129;01mnot\u001b[39;00m \u001b[38;5;129;01min\u001b[39;00m NodeGeometryChange\u001b[38;5;241m.\u001b[39mmodel_fields\n\u001b[1;32m     86\u001b[0m     }\n",
      "File \u001b[0;32m~/Documents/urbanlabs/MetCouncil/NetworkWrangler/working/network_wrangler/network_wrangler/roadway/selection.py:174\u001b[0m, in \u001b[0;36mRoadwayLinkSelection.selected_links\u001b[0;34m(self)\u001b[0m\n\u001b[1;32m    171\u001b[0m \u001b[38;5;129m@property\u001b[39m\n\u001b[1;32m    172\u001b[0m \u001b[38;5;28;01mdef\u001b[39;00m \u001b[38;5;21mselected_links\u001b[39m(\u001b[38;5;28mself\u001b[39m) \u001b[38;5;241m-\u001b[39m\u001b[38;5;241m>\u001b[39m \u001b[38;5;28mlist\u001b[39m[\u001b[38;5;28mint\u001b[39m]:\n\u001b[1;32m    173\u001b[0m \u001b[38;5;250m    \u001b[39m\u001b[38;5;124;03m\"\"\"List of selected link ids.\"\"\"\u001b[39;00m\n\u001b[0;32m--> 174\u001b[0m     \u001b[38;5;28;01mif\u001b[39;00m \u001b[38;5;28;43mself\u001b[39;49m\u001b[38;5;241;43m.\u001b[39;49m\u001b[43mselected_links_df\u001b[49m \u001b[38;5;129;01mis\u001b[39;00m \u001b[38;5;28;01mNone\u001b[39;00m:\n\u001b[1;32m    175\u001b[0m         \u001b[38;5;28;01mreturn\u001b[39;00m []\n\u001b[1;32m    176\u001b[0m     \u001b[38;5;28;01mreturn\u001b[39;00m \u001b[38;5;28mself\u001b[39m\u001b[38;5;241m.\u001b[39mselected_links_df\u001b[38;5;241m.\u001b[39mindex\u001b[38;5;241m.\u001b[39mtolist()\n",
      "File \u001b[0;32m~/Documents/urbanlabs/MetCouncil/NetworkWrangler/working/network_wrangler/network_wrangler/roadway/selection.py:205\u001b[0m, in \u001b[0;36mRoadwayLinkSelection.selected_links_df\u001b[0;34m(self)\u001b[0m\n\u001b[1;32m    203\u001b[0m \u001b[38;5;28;01mif\u001b[39;00m \u001b[38;5;28mself\u001b[39m\u001b[38;5;241m.\u001b[39m_selected_links_df \u001b[38;5;129;01mis\u001b[39;00m \u001b[38;5;28;01mNone\u001b[39;00m \u001b[38;5;129;01mor\u001b[39;00m \u001b[38;5;28mself\u001b[39m\u001b[38;5;241m.\u001b[39m_stored_net_hash \u001b[38;5;241m!=\u001b[39m \u001b[38;5;28mself\u001b[39m\u001b[38;5;241m.\u001b[39mnet\u001b[38;5;241m.\u001b[39mnetwork_hash:\n\u001b[1;32m    204\u001b[0m     \u001b[38;5;28mself\u001b[39m\u001b[38;5;241m.\u001b[39m_stored_net_hash \u001b[38;5;241m=\u001b[39m copy\u001b[38;5;241m.\u001b[39mdeepcopy(\u001b[38;5;28mself\u001b[39m\u001b[38;5;241m.\u001b[39mnet\u001b[38;5;241m.\u001b[39mnetwork_hash)\n\u001b[0;32m--> 205\u001b[0m     \u001b[38;5;28mself\u001b[39m\u001b[38;5;241m.\u001b[39m_selected_links_df \u001b[38;5;241m=\u001b[39m \u001b[38;5;28;43mself\u001b[39;49m\u001b[38;5;241;43m.\u001b[39;49m\u001b[43m_perform_selection\u001b[49m\u001b[43m(\u001b[49m\u001b[43m)\u001b[49m\n\u001b[1;32m    207\u001b[0m \u001b[38;5;28;01mreturn\u001b[39;00m \u001b[38;5;28mself\u001b[39m\u001b[38;5;241m.\u001b[39m_selected_links_df\n",
      "File \u001b[0;32m~/Documents/urbanlabs/MetCouncil/NetworkWrangler/working/network_wrangler/network_wrangler/roadway/selection.py:234\u001b[0m, in \u001b[0;36mRoadwayLinkSelection._perform_selection\u001b[0;34m(self)\u001b[0m\n\u001b[1;32m    231\u001b[0m     _selected_links_df \u001b[38;5;241m=\u001b[39m \u001b[38;5;28mself\u001b[39m\u001b[38;5;241m.\u001b[39m_select_explicit_link_id()\n\u001b[1;32m    233\u001b[0m \u001b[38;5;28;01melif\u001b[39;00m \u001b[38;5;28mself\u001b[39m\u001b[38;5;241m.\u001b[39mselection_type \u001b[38;5;241m==\u001b[39m \u001b[38;5;124m\"\u001b[39m\u001b[38;5;124msegment\u001b[39m\u001b[38;5;124m\"\u001b[39m:\n\u001b[0;32m--> 234\u001b[0m     _selected_links_df \u001b[38;5;241m=\u001b[39m \u001b[38;5;28;43mself\u001b[39;49m\u001b[38;5;241;43m.\u001b[39;49m\u001b[43msegment\u001b[49m\u001b[38;5;241m.\u001b[39msegment_links_df\n\u001b[1;32m    236\u001b[0m \u001b[38;5;28;01melif\u001b[39;00m \u001b[38;5;28mself\u001b[39m\u001b[38;5;241m.\u001b[39mselection_data\u001b[38;5;241m.\u001b[39mselection_type \u001b[38;5;241m==\u001b[39m \u001b[38;5;124m\"\u001b[39m\u001b[38;5;124mall\u001b[39m\u001b[38;5;124m\"\u001b[39m:\n\u001b[1;32m    237\u001b[0m     _selected_links_df \u001b[38;5;241m=\u001b[39m \u001b[38;5;28mself\u001b[39m\u001b[38;5;241m.\u001b[39mnet\u001b[38;5;241m.\u001b[39mlinks_df\n",
      "File \u001b[0;32m~/Documents/urbanlabs/MetCouncil/NetworkWrangler/working/network_wrangler/network_wrangler/roadway/selection.py:188\u001b[0m, in \u001b[0;36mRoadwayLinkSelection.segment\u001b[0;34m(self)\u001b[0m\n\u001b[1;32m    186\u001b[0m \u001b[38;5;28;01mif\u001b[39;00m \u001b[38;5;28mself\u001b[39m\u001b[38;5;241m.\u001b[39m_segment \u001b[38;5;129;01mis\u001b[39;00m \u001b[38;5;28;01mNone\u001b[39;00m \u001b[38;5;129;01mand\u001b[39;00m \u001b[38;5;28mself\u001b[39m\u001b[38;5;241m.\u001b[39mselection_type \u001b[38;5;241m==\u001b[39m \u001b[38;5;124m\"\u001b[39m\u001b[38;5;124msegment\u001b[39m\u001b[38;5;124m\"\u001b[39m:\n\u001b[1;32m    187\u001b[0m     WranglerLogger\u001b[38;5;241m.\u001b[39mdebug(\u001b[38;5;124m\"\u001b[39m\u001b[38;5;124mCreating new segment\u001b[39m\u001b[38;5;124m\"\u001b[39m)\n\u001b[0;32m--> 188\u001b[0m     \u001b[38;5;28mself\u001b[39m\u001b[38;5;241m.\u001b[39m_segment \u001b[38;5;241m=\u001b[39m \u001b[43mSegment\u001b[49m\u001b[43m(\u001b[49m\u001b[38;5;28;43mself\u001b[39;49m\u001b[38;5;241;43m.\u001b[39;49m\u001b[43mnet\u001b[49m\u001b[43m,\u001b[49m\u001b[43m \u001b[49m\u001b[38;5;28;43mself\u001b[39;49m\u001b[43m)\u001b[49m\n\u001b[1;32m    189\u001b[0m \u001b[38;5;28;01mreturn\u001b[39;00m \u001b[38;5;28mself\u001b[39m\u001b[38;5;241m.\u001b[39m_segment\n",
      "File \u001b[0;32m~/Documents/urbanlabs/MetCouncil/NetworkWrangler/working/network_wrangler/network_wrangler/roadway/segment.py:129\u001b[0m, in \u001b[0;36mSegment.__init__\u001b[0;34m(self, net, selection, max_search_breadth)\u001b[0m\n\u001b[1;32m    126\u001b[0m \u001b[38;5;28mself\u001b[39m\u001b[38;5;241m.\u001b[39m_from_node_id: Union[\u001b[38;5;28mint\u001b[39m, \u001b[38;5;28;01mNone\u001b[39;00m] \u001b[38;5;241m=\u001b[39m \u001b[38;5;28;01mNone\u001b[39;00m\n\u001b[1;32m    127\u001b[0m \u001b[38;5;28mself\u001b[39m\u001b[38;5;241m.\u001b[39m_to_node_id: Union[\u001b[38;5;28mint\u001b[39m, \u001b[38;5;28;01mNone\u001b[39;00m] \u001b[38;5;241m=\u001b[39m \u001b[38;5;28;01mNone\u001b[39;00m\n\u001b[0;32m--> 129\u001b[0m \u001b[38;5;28mself\u001b[39m\u001b[38;5;241m.\u001b[39msubnet \u001b[38;5;241m=\u001b[39m \u001b[38;5;28;43mself\u001b[39;49m\u001b[38;5;241;43m.\u001b[39;49m\u001b[43m_generate_subnet\u001b[49m\u001b[43m(\u001b[49m\u001b[38;5;28;43mself\u001b[39;49m\u001b[38;5;241;43m.\u001b[39;49m\u001b[43msegment_sel_dict\u001b[49m\u001b[43m)\u001b[49m\n\u001b[1;32m    131\u001b[0m WranglerLogger\u001b[38;5;241m.\u001b[39minfo(\u001b[38;5;124mf\u001b[39m\u001b[38;5;124m\"\u001b[39m\u001b[38;5;124mSegment created: \u001b[39m\u001b[38;5;132;01m{\u001b[39;00m\u001b[38;5;28mself\u001b[39m\u001b[38;5;132;01m}\u001b[39;00m\u001b[38;5;124m\"\u001b[39m)\n",
      "File \u001b[0;32m~/Documents/urbanlabs/MetCouncil/NetworkWrangler/working/network_wrangler/network_wrangler/roadway/segment.py:246\u001b[0m, in \u001b[0;36mSegment._generate_subnet\u001b[0;34m(self, selection_dict)\u001b[0m\n\u001b[1;32m    240\u001b[0m subnet \u001b[38;5;241m=\u001b[39m generate_subnet_from_link_selection_dict(\n\u001b[1;32m    241\u001b[0m     \u001b[38;5;28mself\u001b[39m\u001b[38;5;241m.\u001b[39mnet,\n\u001b[1;32m    242\u001b[0m     link_selection_dict\u001b[38;5;241m=\u001b[39mselection_dict,\n\u001b[1;32m    243\u001b[0m )\n\u001b[1;32m    244\u001b[0m \u001b[38;5;66;03m# expand network to find at least the origin and destination nodes\u001b[39;00m\n\u001b[1;32m    245\u001b[0m subnet\u001b[38;5;241m.\u001b[39mexpand_to_nodes(\n\u001b[0;32m--> 246\u001b[0m     [\u001b[38;5;28;43mself\u001b[39;49m\u001b[38;5;241;43m.\u001b[39;49m\u001b[43mfrom_node_id\u001b[49m, \u001b[38;5;28mself\u001b[39m\u001b[38;5;241m.\u001b[39mto_node_id], max_search_breadth\u001b[38;5;241m=\u001b[39m\u001b[38;5;28mself\u001b[39m\u001b[38;5;241m.\u001b[39mmax_search_breadth\n\u001b[1;32m    247\u001b[0m )\n\u001b[1;32m    248\u001b[0m \u001b[38;5;28;01mreturn\u001b[39;00m subnet\n",
      "File \u001b[0;32m~/Documents/urbanlabs/MetCouncil/NetworkWrangler/working/network_wrangler/network_wrangler/roadway/segment.py:148\u001b[0m, in \u001b[0;36mSegment.from_node_id\u001b[0;34m(self)\u001b[0m\n\u001b[1;32m    146\u001b[0m \u001b[38;5;28;01mif\u001b[39;00m \u001b[38;5;28mself\u001b[39m\u001b[38;5;241m.\u001b[39m_from_node_id \u001b[38;5;129;01mis\u001b[39;00m \u001b[38;5;129;01mnot\u001b[39;00m \u001b[38;5;28;01mNone\u001b[39;00m:\n\u001b[1;32m    147\u001b[0m     \u001b[38;5;28;01mreturn\u001b[39;00m \u001b[38;5;28mself\u001b[39m\u001b[38;5;241m.\u001b[39m_from_node_id\n\u001b[0;32m--> 148\u001b[0m \u001b[38;5;28mself\u001b[39m\u001b[38;5;241m.\u001b[39m_from_node_id \u001b[38;5;241m=\u001b[39m \u001b[38;5;28;43mself\u001b[39;49m\u001b[38;5;241;43m.\u001b[39;49m\u001b[43mget_node_id\u001b[49m\u001b[43m(\u001b[49m\u001b[38;5;28;43mself\u001b[39;49m\u001b[38;5;241;43m.\u001b[39;49m\u001b[43mselection\u001b[49m\u001b[38;5;241;43m.\u001b[39;49m\u001b[43mselection_data\u001b[49m\u001b[38;5;241;43m.\u001b[39;49m\u001b[43mfrom_\u001b[49m\u001b[43m)\u001b[49m\n\u001b[1;32m    149\u001b[0m \u001b[38;5;28;01mreturn\u001b[39;00m \u001b[38;5;28mself\u001b[39m\u001b[38;5;241m.\u001b[39m_from_node_id\n",
      "File \u001b[0;32m~/Documents/urbanlabs/MetCouncil/NetworkWrangler/working/network_wrangler/network_wrangler/roadway/segment.py:199\u001b[0m, in \u001b[0;36mSegment.get_node_id\u001b[0;34m(self, node_selection_data)\u001b[0m\n\u001b[1;32m    197\u001b[0m \u001b[38;5;28;01mdef\u001b[39;00m \u001b[38;5;21mget_node_id\u001b[39m(\u001b[38;5;28mself\u001b[39m, node_selection_data: SelectNodeDict) \u001b[38;5;241m-\u001b[39m\u001b[38;5;241m>\u001b[39m \u001b[38;5;28mint\u001b[39m:\n\u001b[1;32m    198\u001b[0m \u001b[38;5;250m    \u001b[39m\u001b[38;5;124;03m\"\"\"Get the primary key of a node based on the selection data.\"\"\"\u001b[39;00m\n\u001b[0;32m--> 199\u001b[0m     node \u001b[38;5;241m=\u001b[39m \u001b[38;5;28;43mself\u001b[39;49m\u001b[38;5;241;43m.\u001b[39;49m\u001b[43mget_node\u001b[49m\u001b[43m(\u001b[49m\u001b[43mnode_selection_data\u001b[49m\u001b[43m)\u001b[49m\n\u001b[1;32m    200\u001b[0m     \u001b[38;5;28;01mreturn\u001b[39;00m node[\u001b[38;5;124m\"\u001b[39m\u001b[38;5;124mmodel_node_id\u001b[39m\u001b[38;5;124m\"\u001b[39m]\u001b[38;5;241m.\u001b[39mvalues[\u001b[38;5;241m0\u001b[39m]\n",
      "File \u001b[0;32m~/Documents/urbanlabs/MetCouncil/NetworkWrangler/working/network_wrangler/network_wrangler/roadway/segment.py:204\u001b[0m, in \u001b[0;36mSegment.get_node\u001b[0;34m(self, node_selection_data)\u001b[0m\n\u001b[1;32m    202\u001b[0m \u001b[38;5;28;01mdef\u001b[39;00m \u001b[38;5;21mget_node\u001b[39m(\u001b[38;5;28mself\u001b[39m, node_selection_data: SelectNodeDict):\n\u001b[1;32m    203\u001b[0m \u001b[38;5;250m    \u001b[39m\u001b[38;5;124;03m\"\"\"Get single node based on the selection data.\"\"\"\u001b[39;00m\n\u001b[0;32m--> 204\u001b[0m     sel_d \u001b[38;5;241m=\u001b[39m \u001b[43mnode_selection_data\u001b[49m\u001b[38;5;241;43m.\u001b[39;49m\u001b[43mexplicit_id_selection_dict\u001b[49m\n\u001b[1;32m    205\u001b[0m     _sel_node_mask \u001b[38;5;241m=\u001b[39m \u001b[38;5;28mself\u001b[39m\u001b[38;5;241m.\u001b[39mnet\u001b[38;5;241m.\u001b[39mnodes_df\u001b[38;5;241m.\u001b[39misin(sel_d)\u001b[38;5;241m.\u001b[39many(axis\u001b[38;5;241m=\u001b[39m\u001b[38;5;241m1\u001b[39m)\n\u001b[1;32m    206\u001b[0m     node_df \u001b[38;5;241m=\u001b[39m \u001b[38;5;28mself\u001b[39m\u001b[38;5;241m.\u001b[39mnet\u001b[38;5;241m.\u001b[39mnodes_df\u001b[38;5;241m.\u001b[39mloc[_sel_node_mask]\n",
      "\u001b[0;31mAttributeError\u001b[0m: 'NoneType' object has no attribute 'explicit_id_selection_dict'"
     ]
    }
   ],
   "source": [
    "my_scenario_nobuild.apply_all_projects()"
   ]
  },
  {
   "cell_type": "code",
   "execution_count": 8,
   "metadata": {},
   "outputs": [
    {
     "data": {
      "text/plain": [
       "['widen minnehaha pkwy']"
      ]
     },
     "execution_count": 8,
     "metadata": {},
     "output_type": "execute_result"
    }
   ],
   "source": [
    "my_scenario_nobuild.applied_projects"
   ]
  },
  {
   "attachments": {},
   "cell_type": "markdown",
   "metadata": {},
   "source": [
    "## Define \"Future Build\" Scenario\n",
    "\n",
    " - Specify specific cards to add for a build scenario\n",
    " - This scenario will be tiered off of the no-build scenario and will have 'knowledge' of what projects have already been applied when checking pre-requisites.\n",
    " \n",
    "\n",
    " - Here, we are going to specify a list of very specific build projects.\n",
    " - In this case, we need to create `ProjectCard` instances from the YML files and then add them to the `project_card_list` keyword. "
   ]
  },
  {
   "cell_type": "code",
   "execution_count": 10,
   "metadata": {},
   "outputs": [],
   "source": [
    "BUILD_CARD_FILENAMES = [\n",
    "    \"road.managed_lane.simple.yml\",\n",
    "]"
   ]
  },
  {
   "cell_type": "code",
   "execution_count": 11,
   "metadata": {},
   "outputs": [
    {
     "name": "stdout",
     "output_type": "stream",
     "text": [
      "2020-09-03 09:56:47, INFO: Creating Scenario\n",
      "2020-09-03 09:56:47, INFO: Creating Scenario\n"
     ]
    },
    {
     "data": {
      "text/plain": [
       "['6th Street Transitway',\n",
       " 'Improve Express Bus Frequency B',\n",
       " 'Blue Line Service Enhancement A',\n",
       " 'Blue Line Service Enhancement C',\n",
       " 'Blue Line Service Enhancement B',\n",
       " 'Blue Line Service Enhancement D',\n",
       " '6th St E Road Diet',\n",
       " 'Improve Express Bus Frequency']"
      ]
     },
     "execution_count": 11,
     "metadata": {},
     "output_type": "execute_result"
    }
   ],
   "source": [
    "my_scenario_build_alt1 = Scenario.create_scenario(\n",
    "    base_scenario=my_scenario_nobuild.__dict__,\n",
    "    project_card_filepath=BUILD_CARD_FILENAMES,\n",
    ")\n",
    "\n",
    "my_scenario_build_alt1.applied_projects"
   ]
  },
  {
   "cell_type": "code",
   "execution_count": 12,
   "metadata": {},
   "outputs": [],
   "source": [
    "## Apply Build Scenario Projects"
   ]
  },
  {
   "cell_type": "code",
   "execution_count": 13,
   "metadata": {},
   "outputs": [
    {
     "name": "stdout",
     "output_type": "stream",
     "text": [
      "2020-09-03 09:57:07, INFO: Applying test managed lane project\n",
      "2020-09-03 09:57:07, INFO: Applying test managed lane project\n",
      "2020-09-03 09:57:07, INFO: Applying Project to Roadway Network: test managed lane project\n",
      "2020-09-03 09:57:07, INFO: Applying Project to Roadway Network: test managed lane project\n"
     ]
    }
   ],
   "source": [
    "my_scenario_build_alt1.apply_all_projects()"
   ]
  },
  {
   "cell_type": "code",
   "execution_count": 14,
   "metadata": {},
   "outputs": [
    {
     "data": {
      "text/plain": [
       "['6th Street Transitway',\n",
       " 'Improve Express Bus Frequency B',\n",
       " 'Blue Line Service Enhancement A',\n",
       " 'Blue Line Service Enhancement C',\n",
       " 'Blue Line Service Enhancement B',\n",
       " 'Blue Line Service Enhancement D',\n",
       " '6th St E Road Diet',\n",
       " 'Improve Express Bus Frequency',\n",
       " 'test managed lane project']"
      ]
     },
     "execution_count": 14,
     "metadata": {},
     "output_type": "execute_result"
    }
   ],
   "source": [
    "my_scenario_build_alt1.applied_projects"
   ]
  },
  {
   "cell_type": "code",
   "execution_count": null,
   "metadata": {},
   "outputs": [],
   "source": []
  }
 ],
 "metadata": {
  "kernelspec": {
   "display_name": "wrangler",
   "language": "python",
   "name": "python3"
  },
  "language_info": {
   "codemirror_mode": {
    "name": "ipython",
    "version": 3
   },
   "file_extension": ".py",
   "mimetype": "text/x-python",
   "name": "python",
   "nbconvert_exporter": "python",
   "pygments_lexer": "ipython3",
   "version": "3.10.15"
  },
  "vscode": {
   "interpreter": {
    "hash": "5cfb67e0b2744a84e81e5a9906808c277839f4126dccc23f819e7f035f52be10"
   }
  }
 },
 "nbformat": 4,
 "nbformat_minor": 2
}
