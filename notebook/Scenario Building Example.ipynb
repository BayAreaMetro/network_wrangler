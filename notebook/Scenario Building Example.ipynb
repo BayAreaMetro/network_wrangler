{
 "cells": [
  {
   "cell_type": "code",
   "execution_count": 17,
   "metadata": {},
   "outputs": [],
   "source": [
    "import os\n",
    "\n",
    "from network_wrangler import RoadwayNetwork, TransitNetwork, ProjectCard, Scenario\n",
    "\n",
    "%config IPCompleter.greedy=True\n",
    "\n",
    "import pandas as pd\n",
    "pd.set_option('display.max_columns', None)\n",
    "\n",
    "import warnings\n",
    "warnings.filterwarnings('ignore')"
   ]
  },
  {
   "cell_type": "code",
   "execution_count": 18,
   "metadata": {},
   "outputs": [
    {
     "name": "stdout",
     "output_type": "stream",
     "text": [
      "The autoreload extension is already loaded. To reload it, use:\n",
      "  %reload_ext autoreload\n"
     ]
    }
   ],
   "source": [
    "%load_ext autoreload\n",
    "%autoreload 2"
   ]
  },
  {
   "cell_type": "markdown",
   "metadata": {},
   "source": [
    "## Define Base Files, Networks, and Scenario"
   ]
  },
  {
   "cell_type": "code",
   "execution_count": 19,
   "metadata": {},
   "outputs": [],
   "source": [
    "STPAUL_DIR = os.path.join(os.getcwd(),'../','example','stpaul')\n",
    "STPAUL_SHAPE_FILE = os.path.join(STPAUL_DIR,\"shape.geojson\")\n",
    "STPAUL_LINK_FILE = os.path.join(STPAUL_DIR,\"link.json\")\n",
    "STPAUL_NODE_FILE = os.path.join(STPAUL_DIR,\"node.geojson\")\n",
    "\n"
   ]
  },
  {
   "cell_type": "code",
   "execution_count": 6,
   "metadata": {},
   "outputs": [],
   "source": [
    "road_net = RoadwayNetwork.read(\n",
    "    link_file= STPAUL_LINK_FILE, \n",
    "    node_file=STPAUL_NODE_FILE, \n",
    "    shape_file=STPAUL_SHAPE_FILE, \n",
    "    fast=True\n",
    ")"
   ]
  },
  {
   "cell_type": "code",
   "execution_count": 10,
   "metadata": {},
   "outputs": [],
   "source": [
    "transit_net = TransitNetwork.read(STPAUL_DIR)"
   ]
  },
  {
   "cell_type": "code",
   "execution_count": 35,
   "metadata": {},
   "outputs": [],
   "source": [
    "base_scenario = {\n",
    "    \"road_net\": road_net,\n",
    "    \"transit_net\": transit_net,\n",
    "}"
   ]
  },
  {
   "cell_type": "markdown",
   "metadata": {},
   "source": [
    "## Define and Create \"No Build\" Network\n",
    "\n",
    "In this case, we will create a scenario based on all projects in a directory with a certain filename pattern"
   ]
  },
  {
   "cell_type": "code",
   "execution_count": 34,
   "metadata": {},
   "outputs": [],
   "source": [
    "my_scenario_nobuild = Scenario.create_scenario(\n",
    "    base_scenario=base_scenario, \n",
    "    card_directory = os.path.join(STPAUL_DIR, \"project_cards\"),\n",
    "    glob_search = \"*attribute*.yml\"\n",
    ")"
   ]
  },
  {
   "cell_type": "code",
   "execution_count": 38,
   "metadata": {},
   "outputs": [
    {
     "data": {
      "text/plain": [
       "['Improve Express Bus Frequency',\n",
       " '6th St E Road Diet',\n",
       " 'Blue Line Service Enhancement',\n",
       " 'Blue Line Service Enhancement',\n",
       " '6th Street Transitway']"
      ]
     },
     "execution_count": 38,
     "metadata": {},
     "output_type": "execute_result"
    }
   ],
   "source": [
    "my_scenario_nobuild.get_project_names()"
   ]
  },
  {
   "cell_type": "code",
   "execution_count": 40,
   "metadata": {},
   "outputs": [],
   "source": [
    "my_scenario_nobuild.apply_all_projects()"
   ]
  },
  {
   "cell_type": "code",
   "execution_count": 41,
   "metadata": {},
   "outputs": [
    {
     "data": {
      "text/plain": [
       "[]"
      ]
     },
     "execution_count": 41,
     "metadata": {},
     "output_type": "execute_result"
    }
   ],
   "source": [
    "my_scenario_nobuild.applied_projects"
   ]
  },
  {
   "cell_type": "markdown",
   "metadata": {},
   "source": [
    "## Specify specific cards to add for a build scenario\n",
    "\n",
    "This scenario will be tiered off of the no-build scenario"
   ]
  },
  {
   "cell_type": "code",
   "execution_count": 42,
   "metadata": {},
   "outputs": [],
   "source": [
    "BUILD_CARD_FILENAMES = [\n",
    "        \"4_simple_managed_lane.yml\",\n",
    "    ]\n",
    "\n",
    "project_cards_list = [\n",
    "    ProjectCard.read(os.path.join(STPAUL_DIR, \"project_cards\", filename), validate=False)\n",
    "    for filename in BUILD_CARD_FILENAMES\n",
    "]"
   ]
  },
  {
   "cell_type": "code",
   "execution_count": 44,
   "metadata": {},
   "outputs": [
    {
     "ename": "AttributeError",
     "evalue": "'Scenario' object has no attribute 'get'",
     "output_type": "error",
     "traceback": [
      "\u001b[0;31m---------------------------------------------------------------------------\u001b[0m",
      "\u001b[0;31mAttributeError\u001b[0m                            Traceback (most recent call last)",
      "\u001b[0;32m<ipython-input-44-27ee0274d4e0>\u001b[0m in \u001b[0;36m<module>\u001b[0;34m\u001b[0m\n\u001b[1;32m      1\u001b[0m my_scenario_build_alt1 = Scenario.create_scenario(\n\u001b[1;32m      2\u001b[0m     \u001b[0mbase_scenario\u001b[0m\u001b[0;34m=\u001b[0m\u001b[0mmy_scenario_nobuild\u001b[0m\u001b[0;34m,\u001b[0m\u001b[0;34m\u001b[0m\u001b[0;34m\u001b[0m\u001b[0m\n\u001b[0;32m----> 3\u001b[0;31m     \u001b[0mproject_cards_list\u001b[0m\u001b[0;34m=\u001b[0m\u001b[0mproject_cards_list\u001b[0m\u001b[0;34m\u001b[0m\u001b[0;34m\u001b[0m\u001b[0m\n\u001b[0m\u001b[1;32m      4\u001b[0m )\n\u001b[1;32m      5\u001b[0m \u001b[0;34m\u001b[0m\u001b[0m\n",
      "\u001b[0;32m~/Documents/urbanlabs/MetCouncil/working/network_wrangler/network_wrangler/Scenario.py\u001b[0m in \u001b[0;36mcreate_scenario\u001b[0;34m(base_scenario, card_directory, tags, project_cards_list, glob_search)\u001b[0m\n\u001b[1;32m     94\u001b[0m         \"\"\"\n\u001b[1;32m     95\u001b[0m \u001b[0;34m\u001b[0m\u001b[0m\n\u001b[0;32m---> 96\u001b[0;31m         \u001b[0mscenario\u001b[0m \u001b[0;34m=\u001b[0m \u001b[0mScenario\u001b[0m\u001b[0;34m(\u001b[0m\u001b[0mbase_scenario\u001b[0m\u001b[0;34m,\u001b[0m \u001b[0mproject_cards\u001b[0m\u001b[0;34m=\u001b[0m\u001b[0mproject_cards_list\u001b[0m\u001b[0;34m)\u001b[0m\u001b[0;34m\u001b[0m\u001b[0;34m\u001b[0m\u001b[0m\n\u001b[0m\u001b[1;32m     97\u001b[0m \u001b[0;34m\u001b[0m\u001b[0m\n\u001b[1;32m     98\u001b[0m         \u001b[0;32mif\u001b[0m \u001b[0mcard_directory\u001b[0m \u001b[0;32mand\u001b[0m \u001b[0mtags\u001b[0m\u001b[0;34m:\u001b[0m\u001b[0;34m\u001b[0m\u001b[0;34m\u001b[0m\u001b[0m\n",
      "\u001b[0;32m~/Documents/urbanlabs/MetCouncil/working/network_wrangler/network_wrangler/Scenario.py\u001b[0m in \u001b[0;36m__init__\u001b[0;34m(self, base_scenario, project_cards)\u001b[0m\n\u001b[1;32m     31\u001b[0m \u001b[0;34m\u001b[0m\u001b[0m\n\u001b[1;32m     32\u001b[0m         \u001b[0;31m# if the base scenario had roadway or transit networks, use them as the basis.\u001b[0m\u001b[0;34m\u001b[0m\u001b[0;34m\u001b[0m\u001b[0;34m\u001b[0m\u001b[0m\n\u001b[0;32m---> 33\u001b[0;31m         \u001b[0;32mif\u001b[0m \u001b[0mbase_scenario\u001b[0m\u001b[0;34m.\u001b[0m\u001b[0mget\u001b[0m\u001b[0;34m(\u001b[0m\u001b[0;34m\"road_net\"\u001b[0m\u001b[0;34m)\u001b[0m\u001b[0;34m:\u001b[0m\u001b[0;34m\u001b[0m\u001b[0;34m\u001b[0m\u001b[0m\n\u001b[0m\u001b[1;32m     34\u001b[0m             \u001b[0mself\u001b[0m\u001b[0;34m.\u001b[0m\u001b[0mroad_net\u001b[0m \u001b[0;34m=\u001b[0m \u001b[0mbase_scenario\u001b[0m\u001b[0;34m[\u001b[0m\u001b[0;34m\"road_net\"\u001b[0m\u001b[0;34m]\u001b[0m\u001b[0;34m\u001b[0m\u001b[0;34m\u001b[0m\u001b[0m\n\u001b[1;32m     35\u001b[0m         \u001b[0;32mif\u001b[0m \u001b[0mbase_scenario\u001b[0m\u001b[0;34m.\u001b[0m\u001b[0mget\u001b[0m\u001b[0;34m(\u001b[0m\u001b[0;34m\"transit_net\"\u001b[0m\u001b[0;34m)\u001b[0m\u001b[0;34m:\u001b[0m\u001b[0;34m\u001b[0m\u001b[0;34m\u001b[0m\u001b[0m\n",
      "\u001b[0;31mAttributeError\u001b[0m: 'Scenario' object has no attribute 'get'"
     ]
    }
   ],
   "source": [
    "my_scenario_build_alt1 = Scenario.create_scenario(\n",
    "    base_scenario=my_scenario_nobuild.__dict__, \n",
    "    project_cards_list=project_cards_list\n",
    ")\n",
    "\n",
    "my_scenario_build_alt1.applied_projects"
   ]
  },
  {
   "cell_type": "code",
   "execution_count": null,
   "metadata": {},
   "outputs": [],
   "source": [
    "my_scenario_build_alt1.apply_all_projects()"
   ]
  },
  {
   "cell_type": "code",
   "execution_count": null,
   "metadata": {},
   "outputs": [],
   "source": [
    "my_scenario_build_alt1.applied_projects"
   ]
  }
 ],
 "metadata": {
  "kernelspec": {
   "display_name": "Python 3",
   "language": "python",
   "name": "python3"
  },
  "language_info": {
   "codemirror_mode": {
    "name": "ipython",
    "version": 3
   },
   "file_extension": ".py",
   "mimetype": "text/x-python",
   "name": "python",
   "nbconvert_exporter": "python",
   "pygments_lexer": "ipython3",
   "version": "3.7.3"
  }
 },
 "nbformat": 4,
 "nbformat_minor": 2
}
