{
 "cells": [
  {
   "cell_type": "code",
   "execution_count": 1,
   "metadata": {},
   "outputs": [],
   "source": [
    "import os\n",
    "import warnings\n",
    "\n",
    "import folium\n",
    "import networkx as nx\n",
    "import numpy as np\n",
    "import osmnx as ox\n",
    "import pandas as pd\n",
    "from shapely.geometry import Point\n",
    "\n",
    "from network_wrangler import RoadwayNetwork\n",
    "from network_wrangler import ProjectCard\n",
    "\n",
    "from ipywidgets import HBox, VBox, Output\n",
    "from IPython.display import display, HTML\n",
    "%config IPCompleter.greedy=True\n",
    "pd.set_option('display.max_columns', None)\n",
    "\n",
    "warnings.filterwarnings('ignore')"
   ]
  },
  {
   "cell_type": "code",
   "execution_count": 2,
   "metadata": {},
   "outputs": [],
   "source": [
    "%load_ext autoreload\n",
    "%autoreload 2"
   ]
  },
  {
   "cell_type": "code",
   "execution_count": 1,
   "metadata": {},
   "outputs": [
    {
     "name": "stdout",
     "output_type": "stream",
     "text": [
      "Once deleted, variables cannot be recovered. Proceed (y/[n])? y\n"
     ]
    }
   ],
   "source": [
    "#if you need to reset variables in the notebook\n",
    "%reset"
   ]
  },
  {
   "cell_type": "code",
   "execution_count": 22,
   "metadata": {},
   "outputs": [],
   "source": [
    "import logging\n",
    "import sys\n",
    "logger = logging.getLogger(\"WranglerLogger\")\n",
    "logger.handlers[0].stream = sys.stdout\n",
    "# if you don't want to see so much detail, set to logging.INFO or DEBUG\n",
    "logger.setLevel(logging.DEBUG)"
   ]
  },
  {
   "cell_type": "code",
   "execution_count": 14,
   "metadata": {},
   "outputs": [],
   "source": [
    "STPAUL_DIR = os.path.join(os.path.dirname(os.getcwd()),'examples','stpaul')\n",
    "STPAUL_SHAPE_FILE = os.path.join(STPAUL_DIR,\"shape.geojson\")\n",
    "STPAUL_LINK_FILE = os.path.join(STPAUL_DIR,\"link.json\")\n",
    "STPAUL_NODE_FILE = os.path.join(STPAUL_DIR,\"node.geojson\")"
   ]
  },
  {
   "cell_type": "code",
   "execution_count": 15,
   "metadata": {},
   "outputs": [],
   "source": [
    "net = RoadwayNetwork.read(link_file= STPAUL_LINK_FILE, node_file=STPAUL_NODE_FILE, shape_file=STPAUL_SHAPE_FILE, fast=True)"
   ]
  },
  {
   "cell_type": "code",
   "execution_count": 16,
   "metadata": {},
   "outputs": [],
   "source": [
    "easy_selection = \\\n",
    "{\n",
    "    'link':[\n",
    "        {'name': ['6th', 'Sixth', 'sixth']}, #find streets that have one of the various forms of 6th\n",
    "        ],\n",
    "     'A':{'osm_node_id': '187899923'}, # start searching for segments at A\n",
    "     'B':{'osm_node_id': '187865924'}, # end at B\n",
    "}\n",
    "\n",
    "longer_selection = \\\n",
    "{\n",
    "    'link':[\n",
    "        {'name': ['6th', 'Sixth', 'sixth']}, #find streets that have one of the various forms of 6th\n",
    "        ],\n",
    "     'A':{'osm_node_id': '187899923'}, # start searching for segments at A\n",
    "     'B':{'osm_node_id': '187942339'}, # end at B\n",
    "}\n",
    "##TODO\n",
    "multi_criteria_selection = \\\n",
    "{\n",
    "    'link':[\n",
    "        {'name': ['6th', 'Sixth', 'sixth']}, #find streets that have one of the various forms of 6th\n",
    "        {'lanes': [1,2]}\n",
    "         ],\n",
    "     'A':{'osm_node_id': '187899923'}, # start searching for segments at A\n",
    "     'B':{'osm_node_id': '187942339'}, # end at B\n",
    "}"
   ]
  },
  {
   "cell_type": "code",
   "execution_count": 18,
   "metadata": {},
   "outputs": [
    {
     "data": {
      "text/plain": [
       "'((lanes==1 or lanes==2) and drive_access==1)'"
      ]
     },
     "execution_count": 18,
     "metadata": {},
     "output_type": "execute_result"
    }
   ],
   "source": [
    "# test out to make sure selection query is working correctly\n",
    "ProjectCard.build_link_selection_query(multi_criteria_selection, unique_model_link_identifiers=RoadwayNetwork.UNIQUE_MODEL_LINK_IDENTIFIERS, ignore=['name'])"
   ]
  },
  {
   "cell_type": "code",
   "execution_count": 77,
   "metadata": {},
   "outputs": [
    {
     "name": "stdout",
     "output_type": "stream",
     "text": [
      "2019-12-04 10:06:02, DEBUG: validating selection\n",
      "2019-12-04 10:06:02, DEBUG: Selection Key: ('((name.str.contains(\"6th\") or name.str.contains(\"Sixth\") or name.str.contains(\"sixth\")) and drive_access==1)', 62146, 45691)\n",
      "2019-12-04 10:06:02, DEBUG: validating selection\n",
      "2019-12-04 10:06:02, DEBUG: Selection Key: ('((name.str.contains(\"6th\") or name.str.contains(\"Sixth\") or name.str.contains(\"sixth\")) and drive_access==1)', 62146, 77073)\n",
      "2019-12-04 10:06:02, DEBUG: validating selection\n",
      "2019-12-04 10:06:02, DEBUG: Selection Key: ('((name.str.contains(\"6th\") or name.str.contains(\"Sixth\") or name.str.contains(\"sixth\")) and (lanes==1 or lanes==2) and drive_access==1)', 62146, 77073)\n"
     ]
    }
   ],
   "source": [
    "# default is 10, but we may want to set it higher here for debugging purposes\n",
    "# in reality, we probably want to set it lower\n",
    "RoadwayNetwork.MAX_SEARCH_BREADTH = 15\n",
    "\n",
    "net.select_roadway_features(easy_selection)\n",
    "net.select_roadway_features(longer_selection)\n",
    "net.select_roadway_features(multi_criteria_selection)\n",
    "\n",
    "easy_query = ProjectCard.build_link_selection_query(easy_selection,unique_model_link_identifiers=RoadwayNetwork.UNIQUE_MODEL_LINK_IDENTIFIERS)\n",
    "A_id, B_id = net.orig_dest_nodes_foreign_key(easy_selection)\n",
    "easy_key = (easy_query, A_id, B_id)\n",
    "\n",
    "longer_query = ProjectCard.build_link_selection_query(longer_selection,unique_model_link_identifiers=RoadwayNetwork.UNIQUE_MODEL_LINK_IDENTIFIERS)\n",
    "A_id, B_id = net.orig_dest_nodes_foreign_key(longer_selection)\n",
    "longer_key = (longer_query, A_id, B_id)\n",
    "\n",
    "multi_query = ProjectCard.build_link_selection_query(multi_criteria_selection,unique_model_link_identifiers=RoadwayNetwork.UNIQUE_MODEL_LINK_IDENTIFIERS)\n",
    "A_id, B_id = net.orig_dest_nodes_foreign_key(multi_criteria_selection)\n",
    "multi_key = (multi_query, A_id, B_id)                                                   "
   ]
  },
  {
   "cell_type": "code",
   "execution_count": 79,
   "metadata": {},
   "outputs": [],
   "source": [
    "# Here for exploring the graph\n",
    "\n",
    "G = net.selections[easy_key]['graph']\n",
    "#G.edges\n",
    "#nx.get_edge_attributes(G,'weight')\n",
    "#ox.plot_graph(G, fig_height=10, fig_width=16)"
   ]
  },
  {
   "cell_type": "code",
   "execution_count": 80,
   "metadata": {},
   "outputs": [],
   "source": [
    "class selection_map:\n",
    "    \n",
    "    def __init__(self, net, selection={}):\n",
    "        self.net = net\n",
    "        self.selection = selection\n",
    "        self.query = ProjectCard.build_link_selection_query(selection,unique_model_link_identifiers=RoadwayNetwork.UNIQUE_MODEL_LINK_IDENTIFIERS)\n",
    "        \n",
    "        self.selection_key = net.build_selection_key(self.selection)\n",
    "        \n",
    "        self.G     = self.net.selections[self.selection_key]['graph']\n",
    "        self.links = self.net.selections[self.selection_key]['candidate_links']\n",
    "        self.A_name = self.selection_key[1]\n",
    "        self.B_name = self.selection_key[2]\n",
    "        \n",
    "        self.A     = self.G.nodes[self.A_name]\n",
    "        self.B     = self.G.nodes[self.B_name]\n",
    "        \n",
    "        self.sel_found = self.net.selections[self.selection_key]['selection_found']\n",
    "        if self.sel_found:\n",
    "            self.selected_links = self.net.selections[self.selection_key]['selected_links']\n",
    "            self.sp_route = self.net.selections[self.selection_key]['route']        \n",
    "    \n",
    "    def layout(self, map):\n",
    "        '''\n",
    "        grrr not working\n",
    "        '''\n",
    "        srcdoc = map._repr_html_().replace('\"', '&quot;')\n",
    "        html     = HTML('<iframe srcdoc=\"{0}\" '\n",
    "                 'style=\"width: 100%; height: 400px;'\n",
    "                 'border: none\"></iframe>'.format(srcdoc))\n",
    "        \n",
    "        return VBox(display(self.links), display(html), display(self.query))\n",
    "    \n",
    "    def folium_node(self, node, node_name, color='white', icon = ''):\n",
    "        node_marker = folium.Marker(location=[node['y'],node['x']], \n",
    "                                    icon=folium.Icon(icon = icon, color=color), \n",
    "                                    tooltip=node_name,\n",
    "                                   )\n",
    "        return node_marker\n",
    "    \n",
    "    def folium_route(self):\n",
    "        '''\n",
    "        shows the sp route along which the selection is being created\n",
    "        '''\n",
    "        m = ox.plot_route_folium(self.G, self.sp_route, route_map=self.folium_graph(),\n",
    "                          route_color='white', route_width=15, route_opacity=.5)\n",
    "        return m\n",
    "    \n",
    "    def folium_selection(self):\n",
    "        '''\n",
    "        Shows which links are selected\n",
    "        '''\n",
    "        m = self.folium_graph()\n",
    "        \n",
    "        for _, row in self.net.selections[self.selection_key]['selected_links'].iterrows():\n",
    "            pl = ox.plot.make_folium_polyline(edge=row, edge_color=\"green\", edge_width=7,\n",
    "                                      edge_opacity=0.4)\n",
    "            pl.add_to(m)\n",
    "            \n",
    "        \n",
    "        return m\n",
    "    \n",
    "    def folium_graph(self):\n",
    "        '''\n",
    "        Shows the entirety of the search subgraph\n",
    "        '''\n",
    "        m = ox.plot_graph_folium(self.G, \n",
    "                                 edge_color='blue',\n",
    "                                 edge_width=5, \n",
    "                                 edge_opacity = 0.1,\n",
    "                                 tiles='cartodbdark_matter')\n",
    "        self.folium_node(self.A, self.A_name, color=\"green\", icon = 'play').add_to(m)\n",
    "        self.folium_node(self.B, self.B_name, color=\"pink\", icon = 'star').add_to(m)\n",
    "        \n",
    "        return m\n",
    "\n",
    "    \n",
    "    def candidate_graph(self):\n",
    "        '''\n",
    "        To review in case it doesn't find the SP\n",
    "        ##todo doesn't work.\n",
    "        '''\n",
    "        m = self.folium_graph()\n",
    "        \n",
    "        links = ox.save_load.graph_to_gdfs(self.G, nodes=False, fill_edge_geometry=True)\n",
    "        colors = ox.plot.get_colors(10)\n",
    "        colors_d = {c:value for c, value in enumerate(colors, 0)}\n",
    "        links['color'] = links['i'].map(colors_d)\n",
    "        #print(links[['i','color']])\n",
    "        \n",
    "        for _, row in links.iterrows():\n",
    "            pl = ox.plot.make_folium_polyline(edge=row, edge_color=row['color'], edge_width=5,\n",
    "                                      edge_opacity=1.0)\n",
    "            pl.add_to(m)\n",
    "        self.folium_node(self.A, self.A_name, color=\"green\").add_to(m)\n",
    "        self.folium_node(self.B, self.B_name, color=\"pink\").add_to(m)\n",
    "        \n",
    "        return m"
   ]
  },
  {
   "cell_type": "code",
   "execution_count": 81,
   "metadata": {
    "scrolled": false
   },
   "outputs": [
    {
     "data": {
      "text/html": [
       "<div style=\"width:100%;\"><div style=\"position:relative;width:100%;height:0;padding-bottom:60%;\"><iframe src=\"data:text/html;charset=utf-8;base64,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\" style=\"position:absolute;width:100%;height:100%;left:0;top:0;border:none !important;\" allowfullscreen webkitallowfullscreen mozallowfullscreen></iframe></div></div>"
      ],
      "text/plain": [
       "<folium.folium.Map at 0x12d54bf98>"
      ]
     },
     "execution_count": 81,
     "metadata": {},
     "output_type": "execute_result"
    }
   ],
   "source": [
    "sel = selection_map(net, selection=easy_selection)\n",
    "\n",
    "graph_map = sel.folium_graph()\n",
    "route_map = sel.folium_route()\n",
    "#sel.layout(route_map)\n",
    "#sel.candidate_graph()\n",
    "selected_map = sel.folium_selection()\n",
    "#route_map\n",
    "#sel.links\n",
    "selected_map\n"
   ]
  },
  {
   "cell_type": "code",
   "execution_count": null,
   "metadata": {},
   "outputs": [],
   "source": []
  }
 ],
 "metadata": {
  "kernelspec": {
   "display_name": "Python 3",
   "language": "python",
   "name": "python3"
  },
  "language_info": {
   "codemirror_mode": {
    "name": "ipython",
    "version": 3
   },
   "file_extension": ".py",
   "mimetype": "text/x-python",
   "name": "python",
   "nbconvert_exporter": "python",
   "pygments_lexer": "ipython3",
   "version": "3.7.3"
  }
 },
 "nbformat": 4,
 "nbformat_minor": 2
}
