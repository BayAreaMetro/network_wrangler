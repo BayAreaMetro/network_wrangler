{
 "cells": [
  {
   "cell_type": "markdown",
   "metadata": {},
   "source": [
    "# Managed Lane Example"
   ]
  },
  {
   "cell_type": "code",
   "execution_count": 1,
   "metadata": {},
   "outputs": [],
   "source": [
    "import os\n",
    "import geopandas as gpd\n",
    "\n",
    "from network_wrangler import RoadwayNetwork\n",
    "from network_wrangler import ProjectCard\n",
    "from network_wrangler import TransitNetwork\n",
    "from network_wrangler import Scenario\n",
    "\n",
    "from lasso import ModelRoadwayNetwork\n",
    "from lasso import StandardTransit\n",
    "from lasso import Parameters\n",
    "\n",
    "%load_ext autoreload\n",
    "%autoreload 2\n"
   ]
  },
  {
   "cell_type": "markdown",
   "metadata": {},
   "source": [
    "### Remote I/O"
   ]
  },
  {
   "cell_type": "code",
   "execution_count": 2,
   "metadata": {},
   "outputs": [],
   "source": [
    "stpaul_dir = os.path.join(os.getcwd(), '../', 'examples','stpaul')\n",
    "lasso_dir = os.path.join('../../', 'lasso')\n",
    "\n",
    "# Roadway Network files\n",
    "stpaul_shape_file = os.path.join(stpaul_dir, 'shape.geojson')\n",
    "stpaul_link_file = os.path.join(stpaul_dir, 'link.json')\n",
    "stpaul_node_file = os.path.join(stpaul_dir, 'node.geojson')\n",
    "\n",
    "# Project Card\n",
    "roadway_project_card_file = os.path.join(\n",
    "        stpaul_dir, \"project_cards\", '4_simple_managed_lane.yml'\n",
    "    )\n",
    "\n",
    "# Test Outputs\n",
    "test_output_base_file = os.path.join(stpaul_dir, 'test_output_base.geojson')\n",
    "test_output_build_file = os.path.join(stpaul_dir, 'test_output_build.geojson')"
   ]
  },
  {
   "cell_type": "markdown",
   "metadata": {},
   "source": [
    "### Data Reads"
   ]
  },
  {
   "cell_type": "code",
   "execution_count": 3,
   "metadata": {},
   "outputs": [
    {
     "name": "stdout",
     "output_type": "stream",
     "text": [
      "2020-08-18 18:50:18, INFO: Reading from following files:\n",
      "-/Users/wsp/Documents/GitHub/network_wrangler/notebook/../examples/stpaul/link.json\n",
      "-/Users/wsp/Documents/GitHub/network_wrangler/notebook/../examples/stpaul/node.geojson\n",
      "-/Users/wsp/Documents/GitHub/network_wrangler/notebook/../examples/stpaul/shape.geojson.\n",
      "2020-08-18 18:50:24, INFO: Read 66253 links from /Users/wsp/Documents/GitHub/network_wrangler/notebook/../examples/stpaul/link.json\n",
      "2020-08-18 18:50:24, INFO: Read 17159 nodes from /Users/wsp/Documents/GitHub/network_wrangler/notebook/../examples/stpaul/node.geojson\n",
      "2020-08-18 18:50:24, INFO: Read 66253 shapes from /Users/wsp/Documents/GitHub/network_wrangler/notebook/../examples/stpaul/shape.geojson\n",
      "2020-08-18 18:50:35, INFO: Read in transit feed from: /Users/wsp/Documents/GitHub/network_wrangler/notebook/../examples/stpaul\n",
      "2020-08-18 18:50:35, INFO: Removing calendar.txt from transit network config because file not found\n",
      "2020-08-18 18:50:35, INFO: Removing calendar_dates.txt from transit network config because file not found\n",
      "2020-08-18 18:50:35, INFO: Removing fare_attributes.txt from transit network config because file not found\n",
      "2020-08-18 18:50:35, INFO: Removing fare_rules.txt from transit network config because file not found\n",
      "2020-08-18 18:50:35, INFO: Removing transfers.txt from transit network config because file not found\n",
      "2020-08-18 18:50:35, INFO: Removing feed_info.txt from transit network config because file not found\n",
      "2020-08-18 18:50:35, INFO: Lasso base directory set as: ../../lasso\n"
     ]
    }
   ],
   "source": [
    "roadway_net = RoadwayNetwork.read(\n",
    "    link_file = stpaul_link_file, \n",
    "    node_file = stpaul_node_file, \n",
    "    shape_file = stpaul_shape_file, \n",
    "    fast = True        \n",
    ")\n",
    "\n",
    "transit_net = TransitNetwork.read(feed_path = stpaul_dir)\n",
    "\n",
    "parameters = Parameters(lasso_base_dir = lasso_dir)"
   ]
  },
  {
   "cell_type": "markdown",
   "metadata": {},
   "source": [
    "## Apply Project Card to Scenario"
   ]
  },
  {
   "cell_type": "code",
   "execution_count": 4,
   "metadata": {},
   "outputs": [
    {
     "name": "stdout",
     "output_type": "stream",
     "text": [
      "2020-08-18 18:50:35, INFO: Creating Scenario\n"
     ]
    }
   ],
   "source": [
    "base_scenario = {\"road_net\": roadway_net, \"transit_net\": transit_net}\n",
    "working_scenario = Scenario.create_scenario(base_scenario = base_scenario)"
   ]
  },
  {
   "cell_type": "code",
   "execution_count": 5,
   "metadata": {},
   "outputs": [
    {
     "name": "stdout",
     "output_type": "stream",
     "text": [
      "2020-08-18 18:50:35, INFO: Applying test managed lane project\n",
      "2020-08-18 18:50:35, INFO: Applying Project to Roadway Network: test managed lane project\n"
     ]
    },
    {
     "name": "stderr",
     "output_type": "stream",
     "text": [
      "/Users/wsp/opt/anaconda3/envs/lasso_x/lib/python3.7/site-packages/geopandas/geodataframe.py:853: SettingWithCopyWarning: \n",
      "A value is trying to be set on a copy of a slice from a DataFrame.\n",
      "Try using .loc[row_indexer,col_indexer] = value instead\n",
      "\n",
      "See the caveats in the documentation: https://pandas.pydata.org/pandas-docs/stable/user_guide/indexing.html#returning-a-view-versus-a-copy\n",
      "  super(GeoDataFrame, self).__setitem__(key, value)\n"
     ]
    }
   ],
   "source": [
    "project_card = ProjectCard.read(roadway_project_card_file, validate = False)\n",
    "working_scenario.apply_project(project_card)"
   ]
  },
  {
   "cell_type": "code",
   "execution_count": 6,
   "metadata": {},
   "outputs": [
    {
     "data": {
      "text/plain": [
       "['test managed lane project']"
      ]
     },
     "execution_count": 6,
     "metadata": {},
     "output_type": "execute_result"
    }
   ],
   "source": [
    "working_scenario.applied_projects"
   ]
  },
  {
   "cell_type": "markdown",
   "metadata": {},
   "source": [
    "## Make Base and Build Travel Model Networks and Write to GeoJSON"
   ]
  },
  {
   "cell_type": "code",
   "execution_count": 7,
   "metadata": {},
   "outputs": [
    {
     "name": "stdout",
     "output_type": "stream",
     "text": [
      "2020-08-18 18:50:46, INFO: Lasso base directory set as: ../../lasso\n",
      "2020-08-18 18:50:57, INFO: Lasso base directory set as: ../../lasso\n"
     ]
    }
   ],
   "source": [
    "base_m_net = ModelRoadwayNetwork.from_RoadwayNetwork(roadway_network_object = roadway_net, parameters = parameters)\n",
    "build_m_net = ModelRoadwayNetwork.from_RoadwayNetwork(roadway_network_object = working_scenario.road_net, parameters = parameters)"
   ]
  },
  {
   "cell_type": "code",
   "execution_count": 8,
   "metadata": {},
   "outputs": [
    {
     "name": "stdout",
     "output_type": "stream",
     "text": [
      "2020-08-18 18:50:57, INFO: Renaming roadway attributes to be consistent with what metcouncil's model is expecting\n",
      "2020-08-18 18:50:57, INFO: Didn't detect managed lanes in network.\n",
      "2020-08-18 18:50:57, INFO: Creating calculated roadway variables.\n",
      "2020-08-18 18:50:57, INFO: Calculating Area Type from Spatial Data and adding as roadway network variable: area_type\n"
     ]
    },
    {
     "name": "stderr",
     "output_type": "stream",
     "text": [
      "/Users/wsp/Documents/GitHub/Lasso/lasso/roadway.py:401: UserWarning: Geometry is in a geographic CRS. Results from 'centroid' are likely incorrect. Use 'GeoSeries.to_crs()' to re-project geometries to a projected CRS before this operation.\n",
      "\n",
      "  centroids_gdf[\"geometry\"] = centroids_gdf[\"geometry\"].centroid\n"
     ]
    },
    {
     "name": "stdout",
     "output_type": "stream",
     "text": [
      "2020-08-18 18:51:04, INFO: Finished Calculating Area Type from Spatial Data into variable: area_type\n",
      "2020-08-18 18:51:04, INFO: Adding roadway network variable for county using a spatial join with: ../../lasso/metcouncil_data/county/cb_2017_us_county_5m.shp\n"
     ]
    },
    {
     "name": "stderr",
     "output_type": "stream",
     "text": [
      "/Users/wsp/Documents/GitHub/Lasso/lasso/roadway.py:293: UserWarning: Geometry is in a geographic CRS. Results from 'centroid' are likely incorrect. Use 'GeoSeries.to_crs()' to re-project geometries to a projected CRS before this operation.\n",
      "\n",
      "  centroids_gdf[\"geometry\"] = centroids_gdf[\"geometry\"].centroid\n"
     ]
    },
    {
     "name": "stdout",
     "output_type": "stream",
     "text": [
      "2020-08-18 18:51:10, INFO: Finished Calculating county variable: county\n",
      "2020-08-18 18:51:10, INFO: Calculating Centroid Connector and adding as roadway network variable: centroidconnect\n",
      "2020-08-18 18:51:10, INFO: Finished calculating centroid connector variable: centroidconnect\n",
      "2020-08-18 18:51:10, INFO: Calculating MPO as roadway network variable: mpo\n",
      "2020-08-18 18:51:10, INFO: Finished calculating MPO variable: mpo\n",
      "2020-08-18 18:51:10, INFO: Calculating Assignment Group as network variable: assign_group\n",
      "2020-08-18 18:51:10, INFO: Centroid Connector Variable 'centroidconnect' already in network. Returning without overwriting.\n",
      "2020-08-18 18:51:39, INFO: Finished calculating assignment group variable: assign_group\n",
      "2020-08-18 18:51:40, INFO: Calculating Roadway Class\n",
      "2020-08-18 18:51:40, INFO: Finished calculating roadway class variable: roadway_class\n",
      "2020-08-18 18:51:40, INFO: Adding Counts\n",
      "2020-08-18 18:51:40, INFO: Adding Variable AADT using Shared Streets Reference from ../../lasso/metcouncil_data/count_mn/mn_count_ShSt_API_match.csv\n",
      "2020-08-18 18:51:40, INFO: Added variable: AADT using Shared Streets Reference\n",
      "2020-08-18 18:51:40, INFO: Adding Variable AADT using Shared Streets Reference from ../../lasso/metcouncil_data/Wisconsin_Lanes_Counts_Median/wi_count_ShSt_API_match.csv\n",
      "2020-08-18 18:51:40, INFO: Added variable: AADT using Shared Streets Reference\n",
      "2020-08-18 18:51:40, INFO: Finished adding counts variable: AADT\n",
      "2020-08-18 18:51:40, INFO: Finished creating ML lanes variable: ML_lanes\n",
      "2020-08-18 18:51:40, INFO: Finished creating hov corridor variable: segment_id\n",
      "2020-08-18 18:51:40, INFO: Finished creating managed variable: managed\n",
      "2020-08-18 18:51:40, INFO: Overwriting existing distance Variable 'distance' already in network\n",
      "2020-08-18 18:51:42, INFO: Calculating distance for centroid connectors\n",
      "2020-08-18 18:51:42, INFO: Filling nan for network from network wrangler\n",
      "2020-08-18 18:51:43, INFO: Splitting variables by time period and category\n",
      "2020-08-18 18:51:43, WARNING: Specified variable to split: ML_lanes not in network variables: Index(['model_link_id', 'osm_link_id', 'shstReferenceId', 'shstGeometryId',\n",
      "       'shape_id', 'u', 'v', 'A', 'B', 'locationReferences', 'distance',\n",
      "       'roadway', 'name', 'ref', 'bridge', 'tunnel', 'width', 'max_speed',\n",
      "       'bike_facility', 'drive_access', 'walk_access', 'bike_access',\n",
      "       'truck_access', 'bus_only', 'rail_only', 'lanes', 'access', 'price',\n",
      "       'trn_priority', 'ttime_assert', 'geometry', 'area_type', 'county',\n",
      "       'centroidconnect', 'mpo', 'mrcc_id', 'ROUTE_SYS', 'assign_group',\n",
      "       'roadway_class', 'AADT', 'count_AM', 'count_MD', 'count_PM', 'count_NT',\n",
      "       'count_daily', 'count_year', 'segment_id', 'managed', 'trn_priority_AM',\n",
      "       'trn_priority_MD', 'trn_priority_PM', 'trn_priority_NT',\n",
      "       'ttime_assert_AM', 'ttime_assert_MD', 'ttime_assert_PM',\n",
      "       'ttime_assert_NT', 'lanes_AM', 'lanes_MD', 'lanes_PM', 'lanes_NT'],\n",
      "      dtype='object'). Returning 0.\n",
      "2020-08-18 18:51:44, INFO: Converting variable type to MetCouncil standard\n",
      "2020-08-18 18:51:44, INFO: Setting Coordinate Reference System to EPSG 26915\n",
      "2020-08-18 18:51:49, INFO: Renaming roadway attributes to be consistent with what metcouncil's model is expecting\n",
      "2020-08-18 18:51:49, INFO: Creating managed lane network.\n",
      "2020-08-18 18:51:49, INFO: Creating network with duplicated managed lanes\n"
     ]
    },
    {
     "name": "stderr",
     "output_type": "stream",
     "text": [
      "/Users/wsp/opt/anaconda3/envs/lasso_x/lib/python3.7/site-packages/geopandas/geodataframe.py:853: SettingWithCopyWarning: \n",
      "A value is trying to be set on a copy of a slice from a DataFrame.\n",
      "Try using .loc[row_indexer,col_indexer] = value instead\n",
      "\n",
      "See the caveats in the documentation: https://pandas.pydata.org/pandas-docs/stable/user_guide/indexing.html#returning-a-view-versus-a-copy\n",
      "  super(GeoDataFrame, self).__setitem__(key, value)\n",
      "/Users/wsp/opt/anaconda3/envs/lasso_x/lib/python3.7/site-packages/geopandas/geodataframe.py:852: UserWarning: Geometry column does not contain geometry.\n",
      "  warnings.warn(\"Geometry column does not contain geometry.\")\n"
     ]
    },
    {
     "name": "stdout",
     "output_type": "stream",
     "text": [
      "2020-08-18 18:51:50, INFO: Creating calculated roadway variables.\n",
      "2020-08-18 18:51:50, INFO: Calculating Area Type from Spatial Data and adding as roadway network variable: area_type\n"
     ]
    },
    {
     "name": "stderr",
     "output_type": "stream",
     "text": [
      "/Users/wsp/Documents/GitHub/Lasso/lasso/roadway.py:401: UserWarning: Geometry is in a geographic CRS. Results from 'centroid' are likely incorrect. Use 'GeoSeries.to_crs()' to re-project geometries to a projected CRS before this operation.\n",
      "\n",
      "  centroids_gdf[\"geometry\"] = centroids_gdf[\"geometry\"].centroid\n"
     ]
    },
    {
     "name": "stdout",
     "output_type": "stream",
     "text": [
      "2020-08-18 18:51:56, INFO: Finished Calculating Area Type from Spatial Data into variable: area_type\n",
      "2020-08-18 18:51:56, INFO: Adding roadway network variable for county using a spatial join with: ../../lasso/metcouncil_data/county/cb_2017_us_county_5m.shp\n"
     ]
    },
    {
     "name": "stderr",
     "output_type": "stream",
     "text": [
      "/Users/wsp/Documents/GitHub/Lasso/lasso/roadway.py:293: UserWarning: Geometry is in a geographic CRS. Results from 'centroid' are likely incorrect. Use 'GeoSeries.to_crs()' to re-project geometries to a projected CRS before this operation.\n",
      "\n",
      "  centroids_gdf[\"geometry\"] = centroids_gdf[\"geometry\"].centroid\n"
     ]
    },
    {
     "name": "stdout",
     "output_type": "stream",
     "text": [
      "2020-08-18 18:52:03, INFO: Finished Calculating county variable: county\n",
      "2020-08-18 18:52:03, INFO: Calculating Centroid Connector and adding as roadway network variable: centroidconnect\n",
      "2020-08-18 18:52:03, INFO: Finished calculating centroid connector variable: centroidconnect\n",
      "2020-08-18 18:52:03, INFO: Calculating MPO as roadway network variable: mpo\n",
      "2020-08-18 18:52:03, INFO: Finished calculating MPO variable: mpo\n",
      "2020-08-18 18:52:03, INFO: Calculating Assignment Group as network variable: assign_group\n",
      "2020-08-18 18:52:03, INFO: Centroid Connector Variable 'centroidconnect' already in network. Returning without overwriting.\n",
      "2020-08-18 18:52:32, INFO: Finished calculating assignment group variable: assign_group\n",
      "2020-08-18 18:52:33, INFO: Calculating Roadway Class\n",
      "2020-08-18 18:52:33, INFO: Finished calculating roadway class variable: roadway_class\n",
      "2020-08-18 18:52:33, INFO: Adding Counts\n",
      "2020-08-18 18:52:33, INFO: Adding Variable AADT using Shared Streets Reference from ../../lasso/metcouncil_data/count_mn/mn_count_ShSt_API_match.csv\n",
      "2020-08-18 18:52:33, INFO: Added variable: AADT using Shared Streets Reference\n",
      "2020-08-18 18:52:33, INFO: Adding Variable AADT using Shared Streets Reference from ../../lasso/metcouncil_data/Wisconsin_Lanes_Counts_Median/wi_count_ShSt_API_match.csv\n",
      "2020-08-18 18:52:33, INFO: Added variable: AADT using Shared Streets Reference\n",
      "2020-08-18 18:52:33, INFO: Finished adding counts variable: AADT\n",
      "2020-08-18 18:52:33, INFO: Finished creating ML lanes variable: ML_lanes\n",
      "2020-08-18 18:52:33, INFO: Hov corridor Variable 'segment_id' already in network. Returning without overwriting.\n",
      "2020-08-18 18:52:33, INFO: Managed Variable 'managed' already in network. Returning without overwriting.\n",
      "2020-08-18 18:52:33, INFO: Overwriting existing distance Variable 'distance' already in network\n",
      "2020-08-18 18:52:35, INFO: Calculating distance for centroid connectors\n",
      "2020-08-18 18:52:35, INFO: Filling nan for network from network wrangler\n",
      "2020-08-18 18:52:36, INFO: Splitting variables by time period and category\n",
      "2020-08-18 18:52:37, WARNING: Specified variable to split: ML_lanes not in network variables: Index(['index', 'model_link_id', 'osm_link_id', 'shstReferenceId',\n",
      "       'shstGeometryId', 'shape_id', 'u', 'v', 'A', 'B', 'locationReferences',\n",
      "       'distance', 'roadway', 'name', 'ref', 'bridge', 'tunnel', 'width',\n",
      "       'max_speed', 'bike_facility', 'drive_access', 'walk_access',\n",
      "       'bike_access', 'truck_access', 'bus_only', 'rail_only', 'lanes',\n",
      "       'access', 'price', 'trn_priority', 'ttime_assert', 'geometry',\n",
      "       'managed', 'segment_id', 'HOV', 'egress', 'area_type', 'county',\n",
      "       'centroidconnect', 'mpo', 'mrcc_id', 'ROUTE_SYS', 'assign_group',\n",
      "       'roadway_class', 'AADT', 'count_AM', 'count_MD', 'count_PM', 'count_NT',\n",
      "       'count_daily', 'count_year', 'trn_priority_AM', 'trn_priority_MD',\n",
      "       'trn_priority_PM', 'trn_priority_NT', 'ttime_assert_AM',\n",
      "       'ttime_assert_MD', 'ttime_assert_PM', 'ttime_assert_NT', 'lanes_AM',\n",
      "       'lanes_MD', 'lanes_PM', 'lanes_NT'],\n",
      "      dtype='object'). Returning 0.\n",
      "2020-08-18 18:52:37, INFO: Converting variable type to MetCouncil standard\n",
      "2020-08-18 18:52:38, INFO: Setting Coordinate Reference System to EPSG 26915\n"
     ]
    }
   ],
   "source": [
    "base_m_net.roadway_standard_to_met_council_network()\n",
    "build_m_net.roadway_standard_to_met_council_network()"
   ]
  },
  {
   "cell_type": "code",
   "execution_count": 16,
   "metadata": {},
   "outputs": [],
   "source": [
    "out_cols = ['model_link_id', 'segment_id', 'distance', 'lanes_AM', 'lanes_MD', 'ML_lanes_AM', 'ML_lanes_MD', 'geometry']\n",
    "\n",
    "base_output = base_m_net.links_df[out_cols][(base_m_net.links_df['drive_access'] == 1) & (base_m_net.links_df['centroidconnect'] == 0)]\n",
    "base_output.to_file(test_output_base_file, driver = 'GeoJSON')\n",
    "\n",
    "build_output = build_m_net.links_df[out_cols][(build_m_net.links_df['drive_access'] == 1) & (build_m_net.links_df['centroidconnect'] == 0)]\n",
    "build_output.to_file(test_output_build_file, driver = 'GeoJSON')"
   ]
  },
  {
   "cell_type": "code",
   "execution_count": null,
   "metadata": {},
   "outputs": [],
   "source": []
  }
 ],
 "metadata": {
  "kernelspec": {
   "display_name": "lasso_x",
   "language": "python",
   "name": "lasso_x"
  },
  "language_info": {
   "codemirror_mode": {
    "name": "ipython",
    "version": 3
   },
   "file_extension": ".py",
   "mimetype": "text/x-python",
   "name": "python",
   "nbconvert_exporter": "python",
   "pygments_lexer": "ipython3",
   "version": "3.7.7"
  }
 },
 "nbformat": 4,
 "nbformat_minor": 4
}
